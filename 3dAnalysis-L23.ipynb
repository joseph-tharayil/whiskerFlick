{
 "cells": [
  {
   "cell_type": "code",
   "execution_count": 1,
   "metadata": {},
   "outputs": [],
   "source": [
    "# SPDX-License-Identifier: GPL-3.0-or-later"
   ]
  },
  {
   "cell_type": "code",
   "execution_count": 2,
   "metadata": {},
   "outputs": [],
   "source": [
    "%matplotlib widget"
   ]
  },
  {
   "cell_type": "code",
   "execution_count": 3,
   "metadata": {},
   "outputs": [],
   "source": [
    "import numpy as np\n",
    "import matplotlib.pyplot as plt\n",
    "import pandas as pd\n",
    "import os\n",
    "from scipy.stats import linregress\n",
    "import matplotlib\n",
    "font = {'size'   : 12}\n",
    "\n",
    "matplotlib.rc('font', **font)\n",
    "import conntility\n"
   ]
  },
  {
   "cell_type": "markdown",
   "metadata": {},
   "source": [
    "# Samples cells from exemplary regions and gets scaling factors"
   ]
  },
  {
   "cell_type": "code",
   "execution_count": 4,
   "metadata": {},
   "outputs": [],
   "source": [
    "import bluepysnap as bp\n",
    "s = bp.Simulation('/gpfs/bbp.cscs.ch/project/proj83/scratch/home/tharayil/BlueRecording/examples/whiskerFlick/data/simulation/simulation_config.json')\n",
    "circuit = s.circuit"
   ]
  },
  {
   "cell_type": "code",
   "execution_count": 5,
   "metadata": {},
   "outputs": [],
   "source": [
    "nodes = circuit.nodes"
   ]
  },
  {
   "cell_type": "code",
   "execution_count": 6,
   "metadata": {},
   "outputs": [],
   "source": [
    "# Loads a generator that produces the cell types for all cells in forelimb, hindlimb, and upper lip regions\n",
    "\n",
    "nFl = nodes.get('hex_O1',properties=['mtype'])\n"
   ]
  },
  {
   "cell_type": "code",
   "execution_count": 7,
   "metadata": {},
   "outputs": [],
   "source": [
    "\n",
    "Fl = next(nFl)[1]"
   ]
  },
  {
   "cell_type": "code",
   "execution_count": 36,
   "metadata": {},
   "outputs": [
    {
     "data": {
      "text/plain": [
       "array(['L1_DAC', 'L1_HAC', 'L1_LAC', 'L1_NGC-DA', 'L1_NGC-SA', 'L1_SAC',\n",
       "       'L23_BP', 'L23_BTC', 'L23_CHC', 'L23_DBC', 'L23_LBC', 'L23_MC',\n",
       "       'L23_NBC', 'L23_NGC', 'L23_SBC', 'L2_IPC', 'L2_TPC:A', 'L2_TPC:B',\n",
       "       'L3_TPC:A', 'L3_TPC:C', 'L4_BP', 'L4_BTC', 'L4_CHC', 'L4_DBC',\n",
       "       'L4_LBC', 'L4_MC', 'L4_NBC', 'L4_NGC', 'L4_SBC', 'L4_SSC',\n",
       "       'L4_TPC', 'L4_UPC', 'L5_BP', 'L5_BTC', 'L5_CHC', 'L5_DBC',\n",
       "       'L5_LBC', 'L5_MC', 'L5_NBC', 'L5_NGC', 'L5_SBC', 'L5_TPC:A',\n",
       "       'L5_TPC:B', 'L5_TPC:C', 'L5_UPC', 'L6_BP', 'L6_BPC', 'L6_BTC',\n",
       "       'L6_CHC', 'L6_DBC', 'L6_HPC', 'L6_IPC', 'L6_LBC', 'L6_MC',\n",
       "       'L6_NBC', 'L6_NGC', 'L6_SBC', 'L6_TPC:A', 'L6_TPC:C', 'L6_UPC'],\n",
       "      dtype=object)"
      ]
     },
     "execution_count": 36,
     "metadata": {},
     "output_type": "execute_result"
    }
   ],
   "source": [
    "np.unique(Fl.values)"
   ]
  },
  {
   "cell_type": "code",
   "execution_count": 8,
   "metadata": {},
   "outputs": [],
   "source": [
    "# Loads node ids for Layer 5 TPC:A cells from each of the above regions\n",
    "\n",
    "Fl = np.array(list(Fl[Fl['mtype'].isin(['L2_IPC','L2_TPC:A','L2_TPC:B','L3_TPC:A','L3_TPC:C'])].index))[:,1].astype(int)\n",
    "#Fl = np.array(list(Fl[Fl['mtype']=='L3_TPC:A'].index))[:,1].astype(int)\n",
    "\n"
   ]
  },
  {
   "cell_type": "code",
   "execution_count": 9,
   "metadata": {},
   "outputs": [
    {
     "data": {
      "text/plain": [
       "53049"
      ]
     },
     "execution_count": 9,
     "metadata": {},
     "output_type": "execute_result"
    }
   ],
   "source": [
    "len(Fl)"
   ]
  },
  {
   "cell_type": "code",
   "execution_count": 10,
   "metadata": {},
   "outputs": [],
   "source": [
    "import h5py"
   ]
  },
  {
   "cell_type": "code",
   "execution_count": 11,
   "metadata": {},
   "outputs": [],
   "source": [
    "# Loads the weights file\n",
    "\n",
    "coeffsFile = \"/gpfs/bbp.cscs.ch/project/proj83/scratch/home/tharayil/BlueRecording/examples/whiskerFlick/electrodeFile/coeffs_eeg.h5\"\n",
    "\n",
    "coeffs = h5py.File(coeffsFile)"
   ]
  },
  {
   "cell_type": "code",
   "execution_count": 12,
   "metadata": {},
   "outputs": [],
   "source": [
    "# Node ids from weights file\n",
    "allNodeIds = coeffs['S1nonbarrel_neurons']['node_ids']"
   ]
  },
  {
   "cell_type": "code",
   "execution_count": 13,
   "metadata": {},
   "outputs": [],
   "source": [
    "# Finds indices in the weights file of nodes in the selected regions\n",
    "\n",
    "flIndex = np.where(np.isin(allNodeIds[:],Fl))[0]\n",
    "\n"
   ]
  },
  {
   "cell_type": "code",
   "execution_count": 14,
   "metadata": {},
   "outputs": [],
   "source": [
    "np.random.seed(1776)\n",
    "\n",
    "# Samples nodes from the selected regions\n",
    "\n",
    "flIndex = np.sort(np.random.choice(flIndex,1000,replace=False))\n",
    "\n",
    "\n",
    "FLshort = allNodeIds[:][flIndex]\n",
    "\n"
   ]
  },
  {
   "cell_type": "code",
   "execution_count": 15,
   "metadata": {},
   "outputs": [],
   "source": [
    "# Finds offsets for the compartment weights for the selected nodes\n",
    "\n",
    "flOffsets = [coeffs['S1nonbarrel_neurons']['offsets'][:][flIndex],coeffs['S1nonbarrel_neurons']['offsets'][:][flIndex+1]]\n",
    "\n"
   ]
  },
  {
   "cell_type": "code",
   "execution_count": 19,
   "metadata": {},
   "outputs": [],
   "source": [
    "# Gets compartment weights for the selected nodes (shifted such that the minimum weight for each neuron is 0)\n",
    "\n",
    "scaleFacFl = []\n",
    "\n",
    "ranges = []\n",
    "\n",
    "\n",
    "for i in range(len(flOffsets[0])):\n",
    "    \n",
    "    sfl = coeffs['electrodes']['S1nonbarrel_neurons']['scaling_factors'][flOffsets[0][i]:flOffsets[1][i]][:,0]\n",
    "    sfl -= np.min(sfl)\n",
    "\n",
    "    scaleFacFl.append( sfl )\n",
    "\n",
    "    ranges.append(np.percentile(sfl,90) - np.percentile(sfl,10))\n"
   ]
  },
  {
   "cell_type": "code",
   "execution_count": 20,
   "metadata": {},
   "outputs": [],
   "source": [
    "r = np.mean(ranges)"
   ]
  },
  {
   "cell_type": "code",
   "execution_count": 21,
   "metadata": {},
   "outputs": [
    {
     "data": {
      "text/plain": [
       "1.1595358820973573e-09"
      ]
     },
     "execution_count": 21,
     "metadata": {},
     "output_type": "execute_result"
    }
   ],
   "source": [
    "r"
   ]
  },
  {
   "cell_type": "markdown",
   "metadata": {},
   "source": [
    "# Loads 3d positions"
   ]
  },
  {
   "cell_type": "code",
   "execution_count": 46,
   "metadata": {},
   "outputs": [],
   "source": [
    "path_to_positions = \"compartment/c6374a94-59b9-468d-8958-f7c8f876e562/0/positions/\"\n"
   ]
  },
  {
   "cell_type": "code",
   "execution_count": 47,
   "metadata": {},
   "outputs": [],
   "source": [
    "# Loads positions for a subset of the selected nodes\n",
    "\n",
    "allIds = [FLshort]\n",
    "\n",
    "allIds = [s for item in allIds for s in item]\n",
    "\n",
    "allIds = np.array(allIds)\n",
    "\n",
    "import os\n",
    "\n",
    "i = 0\n",
    "\n",
    "for subfolder in os.listdir(path_to_positions):\n",
    "    for file in os.listdir(path_to_positions+subfolder):\n",
    "        \n",
    "        if i > 10:\n",
    "            break\n",
    "        \n",
    "        positions = pd.read_pickle(path_to_positions+subfolder+'/'+file)\n",
    "        \n",
    "        columns = np.array(list(positions.columns))[:,0]\n",
    "        \n",
    "        indices = np.where(np.isin(allIds,columns))[0]\n",
    "        \n",
    "        if len(indices)==0:\n",
    "            continue\n",
    "        \n",
    "        idsInFile = allIds[indices]\n",
    "\n",
    "        positions = positions[idsInFile]\n",
    "        \n",
    "        if i == 0:\n",
    "            allPositions = positions\n",
    "        else:\n",
    "            allPositions = pd.concat((allPositions,positions),axis=1)\n",
    "            \n",
    "        i += 1\n",
    "        "
   ]
  },
  {
   "cell_type": "code",
   "execution_count": 48,
   "metadata": {},
   "outputs": [],
   "source": [
    "ids = np.unique(np.array(list(allPositions.columns))[:,0])"
   ]
  },
  {
   "cell_type": "code",
   "execution_count": 49,
   "metadata": {},
   "outputs": [],
   "source": [
    "def getNeuronSegmentMidpts(position):\n",
    "    '''\n",
    "    Gets midpoints for a single neuron\n",
    "    '''\n",
    "\n",
    "    \n",
    "    secIds = np.array(list(position.columns))\n",
    "    uniqueSecIds = np.unique(secIds)\n",
    "\n",
    "    for sId in uniqueSecIds: # Iterates through sections\n",
    "\n",
    "        pos = position.iloc[:,np.where(sId == secIds)[0]]\n",
    "\n",
    "        if sId == 0: # Implies that section is a soma, so we just take the position from the file\n",
    "\n",
    "            newPos = pos\n",
    " \n",
    "        elif np.shape(pos.values)[-1] == 1: # If there is only one point in the section, we just take the value\n",
    "            newPos = pd.concat((newPos,pos),axis=1)\n",
    "\n",
    "        else: # We take the midpoints of the values in the file, which are the endpoints of the segments\n",
    "            pos = (pos.iloc[:,:-1]+pos.iloc[:,1:])/2\n",
    "\n",
    "            newPos = pd.concat((newPos,pos),axis=1)\n",
    "\n",
    "    return newPos"
   ]
  },
  {
   "cell_type": "code",
   "execution_count": 50,
   "metadata": {},
   "outputs": [],
   "source": [
    "# Spatial positions of the electrodes\n",
    "\n",
    "# ecog = np.array([3996,-777,-308.95])\n",
    "eeg = np.array([3996,-777,2423.97])\n",
    "returnElectrode = np.array([2677,851,2947.32])\n",
    "# lfp = np.array([3996,-777,-1308.95])"
   ]
  },
  {
   "cell_type": "code",
   "execution_count": 51,
   "metadata": {},
   "outputs": [],
   "source": [
    "import numpy\n",
    "import pandas\n",
    "import h5py\n",
    "import os\n",
    "\n",
    "import neurom\n",
    "import conntility\n",
    "import bluepysnap as bluepy\n",
    "\n",
    "from scipy import interpolate\n",
    "from matplotlib import pyplot as plt\n",
    "\n",
    "fn_electrodes = \"compartment/c6374a94-59b9-468d-8958-f7c8f876e562/0/coeffs_eeg.h5\"\n",
    "fn_sim = 'compartment/c6374a94-59b9-468d-8958-f7c8f876e562/0/simulation_config.json'\n",
    "neuron_pop_str = \"S1nonbarrel_neurons\"\n",
    "\n",
    "\n",
    "class ElectrodeReader(object):\n",
    "    def __init__(self, fn_electrodes, fn_sim, neuron_pop_str):\n",
    "        self.sim = bluepy.Simulation(fn_sim)\n",
    "        self.circ = self.sim.circuit\n",
    "        self.elec_h5 = h5py.File(fn_electrodes, \"r\")\n",
    "        self.pop = neuron_pop_str\n",
    "        self.e_df = self._read_electrode_metadata()\n",
    "        self.nrn_df = self._read_neuron_dataframe()\n",
    "        rep_fn = os.path.join(self.sim.config[\"output\"][\"output_dir\"],\n",
    "                              self.sim.reports[\"compartment\"].config[\"file_name\"] + \".h5\")\n",
    "        self.rep = h5py.File(rep_fn, \"r\")\n",
    "\n",
    "        \n",
    "    def _read_electrode_metadata(self):\n",
    "        grp = self.elec_h5[\"electrodes\"]\n",
    "\n",
    "        populations = list(self.elec_h5.keys())\n",
    "        populations.pop(populations.index(\"electrodes\"))\n",
    "        assert self.pop in populations\n",
    "\n",
    "        electrodes = [int(_k) for _k in grp.keys() if _k not in populations]\n",
    "        props = [\"layer\", \"position\", \"region\", \"type\"]\n",
    "\n",
    "        electrode_series = []\n",
    "        for electrode_id in electrodes:\n",
    "            e = pandas.Series(dict([(_prop, grp[str(electrode_id)][_prop][()])\n",
    "                                     for _prop in props]))\n",
    "            electrode_series.append(e)\n",
    "\n",
    "        e_df = pandas.concat(electrode_series, axis=1, keys=electrodes).transpose()\n",
    "        return e_df\n",
    "    \n",
    "    def _read_neuron_dataframe(self):\n",
    "        props = [\"mtype\", \"morphology\", \"layer\", \"region\", \"x\", \"y\", \"z\", \"flat_x\", \"flat_y\"]\n",
    "        nrn = conntility.circuit_models.neuron_groups.load_neurons(self.circ, props,\n",
    "                                                           base_target=self.sim.config[\"node_set\"],\n",
    "                                                           node_population=self.pop)\n",
    "        return nrn\n",
    "    \n",
    "    def morph_dir(self, morph_format=\"h5v1\"):\n",
    "        nodes = self.circ.config[\"networks\"][\"nodes\"][0]\n",
    "        return nodes[\"populations\"][self.pop][\"alternate_morphologies\"][morph_format]\n",
    "    \n",
    "    def mapping_sec_ids(self, node_id):\n",
    "        rep_grp = self.rep[\"report\"][self.pop][\"mapping\"]\n",
    "        j = numpy.nonzero(rep_grp[\"node_ids\"][:] == node_id)[0][0]\n",
    "        idx = rep_grp[\"index_pointers\"][j:j+2]\n",
    "\n",
    "        e_ids = rep_grp[\"element_ids\"][idx[0]:idx[1]]\n",
    "        return e_ids\n",
    "    \n",
    "    def electrode_weights(self, node_id):\n",
    "        node_ids = self.elec_h5[self.pop][\"node_ids\"][:]\n",
    "        assert node_id in node_ids\n",
    "        i = numpy.nonzero(node_ids == node_id)[0][0]\n",
    "        idx = self.elec_h5[self.pop][\"offsets\"][i:(i+2)]\n",
    "        \n",
    "        factors = self.elec_h5[\"electrodes\"][self.pop][\"scaling_factors\"][idx[0]:idx[1]]\n",
    "\n",
    "        factors -= factors.min(axis=0)\n",
    "        \n",
    "        \n",
    "        e_ids = self.mapping_sec_ids(node_id)\n",
    "        factor_df = pandas.DataFrame(factors, index=pandas.Index(e_ids.astype(int) - 1, name=\"sec_id\"))\n",
    "        return factor_df\n",
    "    \n",
    "    def morphology(self, node_id):\n",
    "        morph_fn = os.path.join(\n",
    "            self.morph_dir(),\n",
    "            self.nrn_df.set_index(\"node_ids\")[\"morphology\"][node_id] + \".h5\"\n",
    "        )\n",
    "        return neurom.load_morphology(morph_fn)\n",
    "    \n",
    "    def neuron(self, node_id, electrode_id):\n",
    "        return ElectrodeHelper(self.electrode_weights(node_id)[electrode_id],\n",
    "                               self.morphology(node_id))\n",
    "\n",
    "    \n",
    "class ElectrodeHelper(object):\n",
    "    def __init__(self, weights, morphology):\n",
    "        self.weights = weights\n",
    "        self.morph = morphology\n",
    "        \n",
    "    @property\n",
    "    def sec_types(self):\n",
    "        data = [[_sec.id, int(_sec.type)] for _sec in self.morph.sections]\n",
    "        sec_type = pandas.DataFrame(data, columns=[\"sec_id\", \"sec_type\"]).set_index(\"sec_id\")[\"sec_type\"]\n",
    "        sec_type[-1] = 1 # soma\n",
    "        sec_type[numpy.max(sec_type.index) + 1] = 5 # invalid\n",
    "        return sec_type\n",
    "    \n",
    "    def mean(self):\n",
    "        return self.weights.mean()\n",
    "    \n",
    "    def means_for_types(self):\n",
    "        sec_type = self.sec_types\n",
    "        tmp_df = pandas.Series(self.weights.values, name=\"weights\",\n",
    "                              index=pandas.Index(sec_type[self.weights.index].values, name=\"sec_type\"))\n",
    "        return tmp_df.groupby(\"sec_type\").mean()\n",
    "    \n",
    "    def hist_for_types(self, nbins=31):\n",
    "        bins = numpy.linspace(self.weights.min(), self.weights.max() + 1E-12, nbins+1)\n",
    "        sec_type = self.sec_types\n",
    "        tmp_df = pandas.Series(self.weights.values, name=\"weights\",\n",
    "                              index=pandas.Index(sec_type[self.weights.index].values, name=\"sec_type\"))\n",
    "        def hist_series(w):\n",
    "            bin_centers = 0.5 * (bins[:-1] + bins[1:])\n",
    "            return pandas.Series(\n",
    "                numpy.histogram(w, bins=bins)[0], name=\"count\",\n",
    "                index=pandas.Index(bin_centers, name=\"weight\")\n",
    "            )\n",
    "        return tmp_df.groupby(\"sec_type\").apply(hist_series).unstack(\"weight\")\n",
    "    \n",
    "    def plot(self, ax=None):\n",
    "        if ax is None:\n",
    "            fig = plt.figure(figsize=(3, 7))\n",
    "            ax = fig.gca()\n",
    "        \n",
    "        f_norm = (self.weights - self.weights.min()) / (self.weights.max() - self.weights.min())\n",
    "        morph = self.morph\n",
    "\n",
    "        # Soma\n",
    "        _c = f_norm[-1]\n",
    "        #plt.plot(0, 0, marker='o', color=[1.0 - _c, _c, 0])\n",
    "\n",
    "        for sec in morph.sections:\n",
    "            if sec.id not in f_norm:\n",
    "                continue\n",
    "            l = numpy.linalg.norm(numpy.diff(sec.points, axis=0)[:, :3], axis=1)\n",
    "            L = numpy.sum(l)\n",
    "            midpoints = 0.5 * (numpy.hstack([0, numpy.cumsum(l[:-1])]) + numpy.cumsum(l))\n",
    "\n",
    "            this_diff = f_norm[sec.id]\n",
    "            if isinstance(this_diff, float):\n",
    "                this_diff = numpy.array([this_diff])\n",
    "            else:\n",
    "                this_diff = this_diff.values\n",
    "\n",
    "            x = numpy.linspace(0, L, len(this_diff) + 2)[1:-1]\n",
    "            c = numpy.interp(midpoints, x, this_diff, left=this_diff[0],right=this_diff[-1])\n",
    "\n",
    "            for p_fr, p_to, _c in zip(sec.points[:-1], sec.points[1:], c):\n",
    "                ax.plot([p_fr[0], p_to[0]], [p_fr[1], p_to[1]],\n",
    "                        color=[1.0 - _c, _c, 0])\n",
    "\n",
    "        ax.set_aspect(\"equal\")\n",
    "        ax.set_frame_on(False)\n",
    "    \n",
    "    \n",
    "tst = ElectrodeReader(fn_electrodes, fn_sim, neuron_pop_str)"
   ]
  },
  {
   "cell_type": "markdown",
   "metadata": {},
   "source": [
    "## Exemplary neurons in each region\n",
    "\n",
    "In each region of the model, we find a neuron of the target m-type (L5_TPC:A) that is among the most central.\n",
    "We use it as a representative example of how a neuron in that region would be affecting the signal"
   ]
  },
  {
   "cell_type": "markdown",
   "metadata": {},
   "source": [
    "The following cell produces Figure 4:"
   ]
  },
  {
   "cell_type": "code",
   "execution_count": 52,
   "metadata": {},
   "outputs": [
    {
     "data": {
      "application/vnd.jupyter.widget-view+json": {
       "model_id": "841a3f49eaa64622b4d67d049499e009",
       "version_major": 2,
       "version_minor": 0
      },
      "image/png": "[encoded data removed]",
      "text/html": [
       "\n",
       "            <div style=\"display: inline-block;\">\n",
       "                <div class=\"jupyter-widgets widget-label\" style=\"text-align: center;\">\n",
       "                    Figure\n",
       "                </div>\n",
       "                <img src='data:image/png;base64,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' width=400.0/>\n",
       "            </div>\n",
       "        "
      ],
      "text/plain": [
       "Canvas(toolbar=Toolbar(toolitems=[('Home', 'Reset original view', 'home', 'home'), ('Back', 'Back to previous …"
      ]
     },
     "metadata": {},
     "output_type": "display_data"
    }
   ],
   "source": [
    "from matplotlib.gridspec import GridSpec\n",
    "\n",
    "\n",
    "import types\n",
    "\n",
    "plt.rcParams['axes.formatter.useoffset'] = False\n",
    "\n",
    "fig = plt.figure(figsize=(4,4))\n",
    "\n",
    "ax1 = fig.add_subplot(1,1,1,projection='3d')\n",
    "\n",
    "#####\n",
    "# Iterates through the node ids of the neurons whose positions have been loaded\n",
    "# Plots the positions in 3d, colored according to the compartment weights for EEG\n",
    "for i in ids[:100]:\n",
    "    \n",
    "    if i in FLshort:\n",
    "        region = FLshort\n",
    "        marker = 'o'\n",
    "        scaleFac = scaleFacFl\n",
    "        color = 'C0'\n",
    "    elif i in HLshort:\n",
    "        region = HLshort\n",
    "        marker = 'v'\n",
    "        scaleFac = scaleFacHl\n",
    "        color='C1'\n",
    "    elif i in ULPshort:\n",
    "        region = ULPshort\n",
    "        marker ='s'\n",
    "        scaleFac = scaleFacULp\n",
    "        color='C2'\n",
    "        \n",
    "    index = np.where(region==i)[0][0]\n",
    "    \n",
    "    scale = scaleFac[index]\n",
    "    \n",
    "    p = getNeuronSegmentMidpts(allPositions[i]).values\n",
    "        \n",
    "    im = ax1.scatter(p[0],p[1],p[2],marker=marker,c=scale,s=.5)#,vmin=0,vmax=5e-9)\n",
    "    \n",
    "ax1.view_init(elev=9., azim=-85)\n",
    "\n",
    "# Plots locations of electrodes\n",
    "ax1.scatter(eeg[0],eeg[1],eeg[2],c='r',s=20)\n",
    "ax1.scatter(returnElectrode[0],returnElectrode[1],returnElectrode[2],c='r',s=20) \n",
    "\n",
    "ax1.set_xlim((2801.1161576783625, 5500))\n",
    "ax1.set_ylim((0, 1883.8635116069354))\n",
    "ax1.set_zlim((-4332.110601382281, 914.4962633882312))\n",
    "\n",
    "\n",
    "ax1.axis('off')\n",
    "\n",
    "cb = plt.colorbar(im,fraction=0.25,location='bottom')\n",
    "\n",
    "cb.set_label(label='Compartment weights (V/nA)',labelpad=20)\n",
    "# cb.set_ticks([])\n",
    "#####\n",
    "plt.savefig('figures/neurons_L2.png',dpi=600)"
   ]
  },
  {
   "cell_type": "code",
   "execution_count": 53,
   "metadata": {},
   "outputs": [
    {
     "data": {
      "text/html": [
       "<div>\n",
       "<style scoped>\n",
       "    .dataframe tbody tr th:only-of-type {\n",
       "        vertical-align: middle;\n",
       "    }\n",
       "\n",
       "    .dataframe tbody tr th {\n",
       "        vertical-align: top;\n",
       "    }\n",
       "\n",
       "    .dataframe thead tr th {\n",
       "        text-align: left;\n",
       "    }\n",
       "</style>\n",
       "<table border=\"1\" class=\"dataframe\">\n",
       "  <thead>\n",
       "    <tr>\n",
       "      <th>id</th>\n",
       "      <th colspan=\"10\" halign=\"left\">274977</th>\n",
       "      <th>...</th>\n",
       "      <th colspan=\"10\" halign=\"left\">332018</th>\n",
       "    </tr>\n",
       "    <tr>\n",
       "      <th>section</th>\n",
       "      <th>0</th>\n",
       "      <th>1</th>\n",
       "      <th>1</th>\n",
       "      <th>1</th>\n",
       "      <th>1</th>\n",
       "      <th>1</th>\n",
       "      <th>1</th>\n",
       "      <th>2</th>\n",
       "      <th>2</th>\n",
       "      <th>2</th>\n",
       "      <th>...</th>\n",
       "      <th>320</th>\n",
       "      <th>320</th>\n",
       "      <th>320</th>\n",
       "      <th>320</th>\n",
       "      <th>321</th>\n",
       "      <th>321</th>\n",
       "      <th>321</th>\n",
       "      <th>321</th>\n",
       "      <th>321</th>\n",
       "      <th>321</th>\n",
       "    </tr>\n",
       "  </thead>\n",
       "  <tbody>\n",
       "    <tr>\n",
       "      <th>0</th>\n",
       "      <td>4131.154279</td>\n",
       "      <td>4131.154279</td>\n",
       "      <td>4126.125837</td>\n",
       "      <td>4121.571115</td>\n",
       "      <td>4118.003022</td>\n",
       "      <td>4114.759154</td>\n",
       "      <td>4112.570740</td>\n",
       "      <td>4112.553614</td>\n",
       "      <td>4109.692921</td>\n",
       "      <td>4106.666460</td>\n",
       "      <td>...</td>\n",
       "      <td>4329.695560</td>\n",
       "      <td>4340.652961</td>\n",
       "      <td>4359.819357</td>\n",
       "      <td>4372.419584</td>\n",
       "      <td>4252.670948</td>\n",
       "      <td>4127.078648</td>\n",
       "      <td>4008.032124</td>\n",
       "      <td>3880.785107</td>\n",
       "      <td>3746.803275</td>\n",
       "      <td>3608.735373</td>\n",
       "    </tr>\n",
       "    <tr>\n",
       "      <th>1</th>\n",
       "      <td>-1262.132721</td>\n",
       "      <td>-1262.132721</td>\n",
       "      <td>-1259.709450</td>\n",
       "      <td>-1257.493255</td>\n",
       "      <td>-1255.730407</td>\n",
       "      <td>-1254.116057</td>\n",
       "      <td>-1252.863524</td>\n",
       "      <td>-1252.864333</td>\n",
       "      <td>-1251.705096</td>\n",
       "      <td>-1249.989567</td>\n",
       "      <td>...</td>\n",
       "      <td>-1585.754866</td>\n",
       "      <td>-1602.534831</td>\n",
       "      <td>-1609.622642</td>\n",
       "      <td>-1619.966984</td>\n",
       "      <td>-1480.448292</td>\n",
       "      <td>-1458.766443</td>\n",
       "      <td>-1429.666131</td>\n",
       "      <td>-1399.109505</td>\n",
       "      <td>-1361.799516</td>\n",
       "      <td>-1323.162100</td>\n",
       "    </tr>\n",
       "    <tr>\n",
       "      <th>2</th>\n",
       "      <td>-1752.468869</td>\n",
       "      <td>-1752.468869</td>\n",
       "      <td>-1754.669445</td>\n",
       "      <td>-1757.623803</td>\n",
       "      <td>-1762.112547</td>\n",
       "      <td>-1766.887148</td>\n",
       "      <td>-1772.318681</td>\n",
       "      <td>-1772.312609</td>\n",
       "      <td>-1777.440605</td>\n",
       "      <td>-1782.325519</td>\n",
       "      <td>...</td>\n",
       "      <td>-2135.818235</td>\n",
       "      <td>-2129.416702</td>\n",
       "      <td>-2129.052230</td>\n",
       "      <td>-2139.557046</td>\n",
       "      <td>-2204.479470</td>\n",
       "      <td>-2358.104589</td>\n",
       "      <td>-2514.656562</td>\n",
       "      <td>-2664.576244</td>\n",
       "      <td>-2807.887051</td>\n",
       "      <td>-2946.812276</td>\n",
       "    </tr>\n",
       "  </tbody>\n",
       "</table>\n",
       "<p>3 rows × 171652 columns</p>\n",
       "</div>"
      ],
      "text/plain": [
       "id            274977                                                      \\\n",
       "section          0            1            1            1            1     \n",
       "0        4131.154279  4131.154279  4126.125837  4121.571115  4118.003022   \n",
       "1       -1262.132721 -1262.132721 -1259.709450 -1257.493255 -1255.730407   \n",
       "2       -1752.468869 -1752.468869 -1754.669445 -1757.623803 -1762.112547   \n",
       "\n",
       "id                                                                        ...  \\\n",
       "section          1            1            2            2            2    ...   \n",
       "0        4114.759154  4112.570740  4112.553614  4109.692921  4106.666460  ...   \n",
       "1       -1254.116057 -1252.863524 -1252.864333 -1251.705096 -1249.989567  ...   \n",
       "2       -1766.887148 -1772.318681 -1772.312609 -1777.440605 -1782.325519  ...   \n",
       "\n",
       "id            332018                                                      \\\n",
       "section          320          320          320          320          321   \n",
       "0        4329.695560  4340.652961  4359.819357  4372.419584  4252.670948   \n",
       "1       -1585.754866 -1602.534831 -1609.622642 -1619.966984 -1480.448292   \n",
       "2       -2135.818235 -2129.416702 -2129.052230 -2139.557046 -2204.479470   \n",
       "\n",
       "id                                                                        \n",
       "section          321          321          321          321          321  \n",
       "0        4127.078648  4008.032124  3880.785107  3746.803275  3608.735373  \n",
       "1       -1458.766443 -1429.666131 -1399.109505 -1361.799516 -1323.162100  \n",
       "2       -2358.104589 -2514.656562 -2664.576244 -2807.887051 -2946.812276  \n",
       "\n",
       "[3 rows x 171652 columns]"
      ]
     },
     "execution_count": 53,
     "metadata": {},
     "output_type": "execute_result"
    }
   ],
   "source": [
    "allPositions"
   ]
  },
  {
   "cell_type": "code",
   "execution_count": null,
   "metadata": {},
   "outputs": [],
   "source": []
  }
 ],
 "metadata": {
  "kernelspec": {
   "display_name": "Python 3 (ipykernel)",
   "language": "python",
   "name": "python3"
  },
  "language_info": {
   "codemirror_mode": {
    "name": "ipython",
    "version": 3
   },
   "file_extension": ".py",
   "mimetype": "text/x-python",
   "name": "python",
   "nbconvert_exporter": "python",
   "pygments_lexer": "ipython3",
   "version": "3.11.6"
  }
 },
 "nbformat": 4,
 "nbformat_minor": 4
}
