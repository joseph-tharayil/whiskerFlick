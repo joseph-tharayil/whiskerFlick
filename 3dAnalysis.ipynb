{
 "cells": [
  {
   "cell_type": "code",
   "execution_count": 1,
   "metadata": {},
   "outputs": [],
   "source": [
    "# SPDX-License-Identifier: GPL-3.0-or-later"
   ]
  },
  {
   "cell_type": "code",
   "execution_count": 2,
   "metadata": {},
   "outputs": [],
   "source": [
    "%matplotlib widget"
   ]
  },
  {
   "cell_type": "code",
   "execution_count": 3,
   "metadata": {},
   "outputs": [],
   "source": [
    "import numpy as np\n",
    "import matplotlib.pyplot as plt\n",
    "import pandas as pd\n",
    "import os\n",
    "from scipy.stats import linregress\n",
    "import matplotlib\n",
    "font = {'size'   : 12}\n",
    "\n",
    "matplotlib.rc('font', **font)\n",
    "import conntility\n"
   ]
  },
  {
   "cell_type": "markdown",
   "metadata": {},
   "source": [
    "# Samples cells from exemplary regions and gets scaling factors"
   ]
  },
  {
   "cell_type": "code",
   "execution_count": 4,
   "metadata": {},
   "outputs": [],
   "source": [
    "import bluepysnap as bp\n",
    "s = bp.Simulation('/gpfs/bbp.cscs.ch/project/proj83/scratch/home/tharayil/BlueRecording/examples/whiskerFlick/data/simulation/simulation_config.json')\n",
    "circuit = s.circuit"
   ]
  },
  {
   "cell_type": "code",
   "execution_count": 5,
   "metadata": {},
   "outputs": [],
   "source": [
    "nodes = circuit.nodes"
   ]
  },
  {
   "cell_type": "code",
   "execution_count": 6,
   "metadata": {},
   "outputs": [],
   "source": [
    "# Loads a generator that produces the cell types for all cells in forelimb, hindlimb, and upper lip regions\n",
    "\n",
    "nFl = nodes.get('hex_O1',properties=['mtype'])\n"
   ]
  },
  {
   "cell_type": "code",
   "execution_count": 7,
   "metadata": {},
   "outputs": [],
   "source": [
    "# Loads node ids for Layer 5 TPC:A cells from each of the above regions\n",
    "\n",
    "Fl = next(nFl)[1]\n",
    "#Fl = np.array(list(Fl[Fl['mtype'].isin(['L5_TPC:A'])].index))[:,1].astype(int)\n",
    "\n",
    "Fl = np.array(list(Fl[Fl['mtype'].isin(['L5_TPC:A','L5_TPC:B','L5_TPC:C','L5_UPC'])].index))[:,1].astype(int)\n",
    "\n"
   ]
  },
  {
   "cell_type": "code",
   "execution_count": 8,
   "metadata": {},
   "outputs": [
    {
     "data": {
      "text/plain": [
       "35144"
      ]
     },
     "execution_count": 8,
     "metadata": {},
     "output_type": "execute_result"
    }
   ],
   "source": [
    "len(Fl)"
   ]
  },
  {
   "cell_type": "code",
   "execution_count": 9,
   "metadata": {},
   "outputs": [],
   "source": [
    "import h5py"
   ]
  },
  {
   "cell_type": "code",
   "execution_count": 10,
   "metadata": {},
   "outputs": [],
   "source": [
    "# Loads the weights file\n",
    "\n",
    "coeffsFile = \"/gpfs/bbp.cscs.ch/project/proj83/scratch/home/tharayil/BlueRecording/examples/whiskerFlick/electrodeFile/coeffs_eeg.h5\"\n",
    "\n",
    "coeffs = h5py.File(coeffsFile)"
   ]
  },
  {
   "cell_type": "code",
   "execution_count": 11,
   "metadata": {},
   "outputs": [],
   "source": [
    "# Node ids from weights file\n",
    "allNodeIds = coeffs['S1nonbarrel_neurons']['node_ids']"
   ]
  },
  {
   "cell_type": "code",
   "execution_count": 12,
   "metadata": {},
   "outputs": [],
   "source": [
    "# Finds indices in the weights file of nodes in the selected regions\n",
    "\n",
    "flIndex = np.where(np.isin(allNodeIds[:],Fl))[0]\n",
    "\n"
   ]
  },
  {
   "cell_type": "code",
   "execution_count": 13,
   "metadata": {},
   "outputs": [],
   "source": [
    "np.random.seed(1776)\n",
    "\n",
    "# Samples nodes from the selected regions\n",
    "\n",
    "flIndex = np.sort(np.random.choice(flIndex,1000,replace=False))\n",
    "\n",
    "\n",
    "FLshort = allNodeIds[:][flIndex]\n",
    "\n"
   ]
  },
  {
   "cell_type": "code",
   "execution_count": 14,
   "metadata": {},
   "outputs": [],
   "source": [
    "# Finds offsets for the compartment weights for the selected nodes\n",
    "\n",
    "flOffsets = [coeffs['S1nonbarrel_neurons']['offsets'][:][flIndex],coeffs['S1nonbarrel_neurons']['offsets'][:][flIndex+1]]\n",
    "\n"
   ]
  },
  {
   "cell_type": "code",
   "execution_count": 15,
   "metadata": {},
   "outputs": [],
   "source": [
    "# Gets compartment weights for the selected nodes (shifted such that the minimum weight for each neuron is 0)\n",
    "\n",
    "scaleFacFl = []\n",
    "\n",
    "ranges = []\n",
    "\n",
    "\n",
    "for i in range(len(flOffsets[0])):\n",
    "    \n",
    "    sfl = coeffs['electrodes']['S1nonbarrel_neurons']['scaling_factors'][flOffsets[0][i]:flOffsets[1][i]][:,0]\n",
    "    sfl -= np.min(sfl)\n",
    "\n",
    "    scaleFacFl.append( sfl )\n",
    "\n",
    "    ranges.append(np.percentile(sfl,90) - np.percentile(sfl,10))\n"
   ]
  },
  {
   "cell_type": "code",
   "execution_count": 16,
   "metadata": {},
   "outputs": [],
   "source": [
    "r = np.mean(ranges)"
   ]
  },
  {
   "cell_type": "code",
   "execution_count": 17,
   "metadata": {},
   "outputs": [
    {
     "data": {
      "text/plain": [
       "3.1076988964038654e-09"
      ]
     },
     "execution_count": 17,
     "metadata": {},
     "output_type": "execute_result"
    }
   ],
   "source": [
    "r"
   ]
  },
  {
   "cell_type": "markdown",
   "metadata": {},
   "source": [
    "# Loads 3d positions"
   ]
  },
  {
   "cell_type": "code",
   "execution_count": 18,
   "metadata": {},
   "outputs": [],
   "source": [
    "path_to_positions = \"compartment/c6374a94-59b9-468d-8958-f7c8f876e562/0/positions/\"\n"
   ]
  },
  {
   "cell_type": "code",
   "execution_count": 19,
   "metadata": {},
   "outputs": [],
   "source": [
    "# Loads positions for a subset of the selected nodes\n",
    "\n",
    "allIds = [FLshort]\n",
    "\n",
    "allIds = [s for item in allIds for s in item]\n",
    "\n",
    "allIds = np.array(allIds)\n",
    "\n",
    "import os\n",
    "\n",
    "i = 0\n",
    "\n",
    "for subfolder in os.listdir(path_to_positions):\n",
    "    for file in os.listdir(path_to_positions+subfolder):\n",
    "        \n",
    "        if i > 10:\n",
    "            break\n",
    "        \n",
    "        positions = pd.read_pickle(path_to_positions+subfolder+'/'+file)\n",
    "        \n",
    "        columns = np.array(list(positions.columns))[:,0]\n",
    "        \n",
    "        indices = np.where(np.isin(allIds,columns))[0]\n",
    "        \n",
    "        if len(indices)==0:\n",
    "            continue\n",
    "        \n",
    "        idsInFile = allIds[indices]\n",
    "\n",
    "        positions = positions[idsInFile]\n",
    "        \n",
    "        if i == 0:\n",
    "            allPositions = positions\n",
    "        else:\n",
    "            allPositions = pd.concat((allPositions,positions),axis=1)\n",
    "            \n",
    "        i += 1\n",
    "        "
   ]
  },
  {
   "cell_type": "code",
   "execution_count": 20,
   "metadata": {},
   "outputs": [],
   "source": [
    "ids = np.unique(np.array(list(allPositions.columns))[:,0])"
   ]
  },
  {
   "cell_type": "code",
   "execution_count": 21,
   "metadata": {},
   "outputs": [],
   "source": [
    "def getNeuronSegmentMidpts(position):\n",
    "    '''\n",
    "    Gets midpoints for a single neuron\n",
    "    '''\n",
    "\n",
    "    \n",
    "    secIds = np.array(list(position.columns))\n",
    "    uniqueSecIds = np.unique(secIds)\n",
    "\n",
    "    for sId in uniqueSecIds: # Iterates through sections\n",
    "\n",
    "        pos = position.iloc[:,np.where(sId == secIds)[0]]\n",
    "\n",
    "        if sId == 0: # Implies that section is a soma, so we just take the position from the file\n",
    "\n",
    "            newPos = pos\n",
    " \n",
    "        elif np.shape(pos.values)[-1] == 1: # If there is only one point in the section, we just take the value\n",
    "            newPos = pd.concat((newPos,pos),axis=1)\n",
    "\n",
    "        else: # We take the midpoints of the values in the file, which are the endpoints of the segments\n",
    "            pos = (pos.iloc[:,:-1]+pos.iloc[:,1:])/2\n",
    "\n",
    "            newPos = pd.concat((newPos,pos),axis=1)\n",
    "\n",
    "    return newPos"
   ]
  },
  {
   "cell_type": "code",
   "execution_count": 22,
   "metadata": {},
   "outputs": [],
   "source": [
    "# Spatial positions of the electrodes\n",
    "\n",
    "# ecog = np.array([3996,-777,-308.95])\n",
    "eeg = np.array([3996,-777,2423.97])\n",
    "returnElectrode = np.array([2677,851,2947.32])\n",
    "# lfp = np.array([3996,-777,-1308.95])"
   ]
  },
  {
   "cell_type": "code",
   "execution_count": 23,
   "metadata": {},
   "outputs": [],
   "source": [
    "import numpy\n",
    "import pandas\n",
    "import h5py\n",
    "import os\n",
    "\n",
    "import neurom\n",
    "import conntility\n",
    "import bluepysnap as bluepy\n",
    "\n",
    "from scipy import interpolate\n",
    "from matplotlib import pyplot as plt\n",
    "\n",
    "fn_electrodes = \"compartment/c6374a94-59b9-468d-8958-f7c8f876e562/0/coeffs_eeg.h5\"\n",
    "fn_sim = 'compartment/c6374a94-59b9-468d-8958-f7c8f876e562/0/simulation_config.json'\n",
    "neuron_pop_str = \"S1nonbarrel_neurons\"\n",
    "\n",
    "\n",
    "class ElectrodeReader(object):\n",
    "    def __init__(self, fn_electrodes, fn_sim, neuron_pop_str):\n",
    "        self.sim = bluepy.Simulation(fn_sim)\n",
    "        self.circ = self.sim.circuit\n",
    "        self.elec_h5 = h5py.File(fn_electrodes, \"r\")\n",
    "        self.pop = neuron_pop_str\n",
    "        self.e_df = self._read_electrode_metadata()\n",
    "        self.nrn_df = self._read_neuron_dataframe()\n",
    "        rep_fn = os.path.join(self.sim.config[\"output\"][\"output_dir\"],\n",
    "                              self.sim.reports[\"compartment\"].config[\"file_name\"] + \".h5\")\n",
    "        self.rep = h5py.File(rep_fn, \"r\")\n",
    "\n",
    "        \n",
    "    def _read_electrode_metadata(self):\n",
    "        grp = self.elec_h5[\"electrodes\"]\n",
    "\n",
    "        populations = list(self.elec_h5.keys())\n",
    "        populations.pop(populations.index(\"electrodes\"))\n",
    "        assert self.pop in populations\n",
    "\n",
    "        electrodes = [int(_k) for _k in grp.keys() if _k not in populations]\n",
    "        props = [\"layer\", \"position\", \"region\", \"type\"]\n",
    "\n",
    "        electrode_series = []\n",
    "        for electrode_id in electrodes:\n",
    "            e = pandas.Series(dict([(_prop, grp[str(electrode_id)][_prop][()])\n",
    "                                     for _prop in props]))\n",
    "            electrode_series.append(e)\n",
    "\n",
    "        e_df = pandas.concat(electrode_series, axis=1, keys=electrodes).transpose()\n",
    "        return e_df\n",
    "    \n",
    "    def _read_neuron_dataframe(self):\n",
    "        props = [\"mtype\", \"morphology\", \"layer\", \"region\", \"x\", \"y\", \"z\", \"flat_x\", \"flat_y\"]\n",
    "        nrn = conntility.circuit_models.neuron_groups.load_neurons(self.circ, props,\n",
    "                                                           base_target=self.sim.config[\"node_set\"],\n",
    "                                                           node_population=self.pop)\n",
    "        return nrn\n",
    "    \n",
    "    def morph_dir(self, morph_format=\"h5v1\"):\n",
    "        nodes = self.circ.config[\"networks\"][\"nodes\"][0]\n",
    "        return nodes[\"populations\"][self.pop][\"alternate_morphologies\"][morph_format]\n",
    "    \n",
    "    def mapping_sec_ids(self, node_id):\n",
    "        rep_grp = self.rep[\"report\"][self.pop][\"mapping\"]\n",
    "        j = numpy.nonzero(rep_grp[\"node_ids\"][:] == node_id)[0][0]\n",
    "        idx = rep_grp[\"index_pointers\"][j:j+2]\n",
    "\n",
    "        e_ids = rep_grp[\"element_ids\"][idx[0]:idx[1]]\n",
    "        return e_ids\n",
    "    \n",
    "    def electrode_weights(self, node_id):\n",
    "        node_ids = self.elec_h5[self.pop][\"node_ids\"][:]\n",
    "        assert node_id in node_ids\n",
    "        i = numpy.nonzero(node_ids == node_id)[0][0]\n",
    "        idx = self.elec_h5[self.pop][\"offsets\"][i:(i+2)]\n",
    "        \n",
    "        factors = self.elec_h5[\"electrodes\"][self.pop][\"scaling_factors\"][idx[0]:idx[1]]\n",
    "\n",
    "        factors -= factors.min(axis=0)\n",
    "        \n",
    "        \n",
    "        e_ids = self.mapping_sec_ids(node_id)\n",
    "        factor_df = pandas.DataFrame(factors, index=pandas.Index(e_ids.astype(int) - 1, name=\"sec_id\"))\n",
    "        return factor_df\n",
    "    \n",
    "    def morphology(self, node_id):\n",
    "        morph_fn = os.path.join(\n",
    "            self.morph_dir(),\n",
    "            self.nrn_df.set_index(\"node_ids\")[\"morphology\"][node_id] + \".h5\"\n",
    "        )\n",
    "        return neurom.load_morphology(morph_fn)\n",
    "    \n",
    "    def neuron(self, node_id, electrode_id):\n",
    "        return ElectrodeHelper(self.electrode_weights(node_id)[electrode_id],\n",
    "                               self.morphology(node_id))\n",
    "\n",
    "    \n",
    "class ElectrodeHelper(object):\n",
    "    def __init__(self, weights, morphology):\n",
    "        self.weights = weights\n",
    "        self.morph = morphology\n",
    "        \n",
    "    @property\n",
    "    def sec_types(self):\n",
    "        data = [[_sec.id, int(_sec.type)] for _sec in self.morph.sections]\n",
    "        sec_type = pandas.DataFrame(data, columns=[\"sec_id\", \"sec_type\"]).set_index(\"sec_id\")[\"sec_type\"]\n",
    "        sec_type[-1] = 1 # soma\n",
    "        sec_type[numpy.max(sec_type.index) + 1] = 5 # invalid\n",
    "        return sec_type\n",
    "    \n",
    "    def mean(self):\n",
    "        return self.weights.mean()\n",
    "    \n",
    "    def means_for_types(self):\n",
    "        sec_type = self.sec_types\n",
    "        tmp_df = pandas.Series(self.weights.values, name=\"weights\",\n",
    "                              index=pandas.Index(sec_type[self.weights.index].values, name=\"sec_type\"))\n",
    "        return tmp_df.groupby(\"sec_type\").mean()\n",
    "    \n",
    "    def hist_for_types(self, nbins=31):\n",
    "        bins = numpy.linspace(self.weights.min(), self.weights.max() + 1E-12, nbins+1)\n",
    "        sec_type = self.sec_types\n",
    "        tmp_df = pandas.Series(self.weights.values, name=\"weights\",\n",
    "                              index=pandas.Index(sec_type[self.weights.index].values, name=\"sec_type\"))\n",
    "        def hist_series(w):\n",
    "            bin_centers = 0.5 * (bins[:-1] + bins[1:])\n",
    "            return pandas.Series(\n",
    "                numpy.histogram(w, bins=bins)[0], name=\"count\",\n",
    "                index=pandas.Index(bin_centers, name=\"weight\")\n",
    "            )\n",
    "        return tmp_df.groupby(\"sec_type\").apply(hist_series).unstack(\"weight\")\n",
    "    \n",
    "    def plot(self, ax=None):\n",
    "        if ax is None:\n",
    "            fig = plt.figure(figsize=(3, 7))\n",
    "            ax = fig.gca()\n",
    "        \n",
    "        f_norm = (self.weights - self.weights.min()) / (self.weights.max() - self.weights.min())\n",
    "        morph = self.morph\n",
    "\n",
    "        # Soma\n",
    "        _c = f_norm[-1]\n",
    "        #plt.plot(0, 0, marker='o', color=[1.0 - _c, _c, 0])\n",
    "\n",
    "        for sec in morph.sections:\n",
    "            if sec.id not in f_norm:\n",
    "                continue\n",
    "            l = numpy.linalg.norm(numpy.diff(sec.points, axis=0)[:, :3], axis=1)\n",
    "            L = numpy.sum(l)\n",
    "            midpoints = 0.5 * (numpy.hstack([0, numpy.cumsum(l[:-1])]) + numpy.cumsum(l))\n",
    "\n",
    "            this_diff = f_norm[sec.id]\n",
    "            if isinstance(this_diff, float):\n",
    "                this_diff = numpy.array([this_diff])\n",
    "            else:\n",
    "                this_diff = this_diff.values\n",
    "\n",
    "            x = numpy.linspace(0, L, len(this_diff) + 2)[1:-1]\n",
    "            c = numpy.interp(midpoints, x, this_diff, left=this_diff[0],right=this_diff[-1])\n",
    "\n",
    "            for p_fr, p_to, _c in zip(sec.points[:-1], sec.points[1:], c):\n",
    "                ax.plot([p_fr[0], p_to[0]], [p_fr[1], p_to[1]],\n",
    "                        color=[1.0 - _c, _c, 0])\n",
    "\n",
    "        ax.set_aspect(\"equal\")\n",
    "        ax.set_frame_on(False)\n",
    "    \n",
    "    \n",
    "tst = ElectrodeReader(fn_electrodes, fn_sim, neuron_pop_str)"
   ]
  },
  {
   "cell_type": "markdown",
   "metadata": {},
   "source": [
    "## Exemplary neurons in each region\n",
    "\n",
    "In each region of the model, we find a neuron of the target m-type (L5_TPC:A) that is among the most central.\n",
    "We use it as a representative example of how a neuron in that region would be affecting the signal"
   ]
  },
  {
   "cell_type": "markdown",
   "metadata": {},
   "source": [
    "The following cell produces Figure 4:"
   ]
  },
  {
   "cell_type": "code",
   "execution_count": 24,
   "metadata": {},
   "outputs": [
    {
     "data": {
      "application/vnd.jupyter.widget-view+json": {
       "model_id": "ff432c2f53f04b38bb7dbd8509858fa5",
       "version_major": 2,
       "version_minor": 0
      },
      "image/png": "[encoded data removed]",
      "text/html": [
       "\n",
       "            <div style=\"display: inline-block;\">\n",
       "                <div class=\"jupyter-widgets widget-label\" style=\"text-align: center;\">\n",
       "                    Figure\n",
       "                </div>\n",
       "                <img src='data:image/png;base64,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' width=400.0/>\n",
       "            </div>\n",
       "        "
      ],
      "text/plain": [
       "Canvas(toolbar=Toolbar(toolitems=[('Home', 'Reset original view', 'home', 'home'), ('Back', 'Back to previous …"
      ]
     },
     "metadata": {},
     "output_type": "display_data"
    }
   ],
   "source": [
    "from matplotlib.gridspec import GridSpec\n",
    "\n",
    "\n",
    "import types\n",
    "\n",
    "plt.rcParams['axes.formatter.useoffset'] = False\n",
    "\n",
    "fig = plt.figure(figsize=(4,4))\n",
    "\n",
    "ax1 = fig.add_subplot(1,1,1,projection='3d')\n",
    "\n",
    "#####\n",
    "# Iterates through the node ids of the neurons whose positions have been loaded\n",
    "# Plots the positions in 3d, colored according to the compartment weights for EEG\n",
    "for i in ids[:100]:\n",
    "    \n",
    "    if i in FLshort:\n",
    "        region = FLshort\n",
    "        marker = 'o'\n",
    "        scaleFac = scaleFacFl\n",
    "        color = 'C0'\n",
    "    elif i in HLshort:\n",
    "        region = HLshort\n",
    "        marker = 'v'\n",
    "        scaleFac = scaleFacHl\n",
    "        color='C1'\n",
    "    elif i in ULPshort:\n",
    "        region = ULPshort\n",
    "        marker ='s'\n",
    "        scaleFac = scaleFacULp\n",
    "        color='C2'\n",
    "        \n",
    "    index = np.where(region==i)[0][0]\n",
    "    \n",
    "    scale = scaleFac[index]\n",
    "    \n",
    "    p = getNeuronSegmentMidpts(allPositions[i]).values\n",
    "        \n",
    "    im = ax1.scatter(p[0],p[1],p[2],marker=marker,c=scale,s=.5)#,vmin=0,vmax=5e-9)\n",
    "    \n",
    "ax1.view_init(elev=9., azim=-85)\n",
    "\n",
    "# Plots locations of electrodes\n",
    "ax1.scatter(eeg[0],eeg[1],eeg[2],c='r',s=20)\n",
    "ax1.scatter(returnElectrode[0],returnElectrode[1],returnElectrode[2],c='r',s=20) \n",
    "\n",
    "ax1.set_xlim((2801.1161576783625, 5500))\n",
    "ax1.set_ylim((0, 1883.8635116069354))\n",
    "ax1.set_zlim((-4332.110601382281, 914.4962633882312))\n",
    "\n",
    "\n",
    "ax1.axis('off')\n",
    "\n",
    "cb = plt.colorbar(im,fraction=0.25,location='bottom')\n",
    "\n",
    "cb.set_label(label='Compartment weights (V/nA)',labelpad=20)\n",
    "# cb.set_ticks([])\n",
    "#####\n",
    "\n",
    "plt.savefig('figures/neurons.png',dpi=600)"
   ]
  },
  {
   "cell_type": "code",
   "execution_count": 25,
   "metadata": {},
   "outputs": [
    {
     "data": {
      "text/plain": [
       "4.627821571681322e-09"
      ]
     },
     "execution_count": 25,
     "metadata": {},
     "output_type": "execute_result"
    }
   ],
   "source": [
    "np.max(scale)-np.min(scale)"
   ]
  },
  {
   "cell_type": "code",
   "execution_count": null,
   "metadata": {},
   "outputs": [],
   "source": []
  }
 ],
 "metadata": {
  "kernelspec": {
   "display_name": "Python 3 (ipykernel)",
   "language": "python",
   "name": "python3"
  },
  "language_info": {
   "codemirror_mode": {
    "name": "ipython",
    "version": 3
   },
   "file_extension": ".py",
   "mimetype": "text/x-python",
   "name": "python",
   "nbconvert_exporter": "python",
   "pygments_lexer": "ipython3",
   "version": "3.11.6"
  }
 },
 "nbformat": 4,
 "nbformat_minor": 4
}
