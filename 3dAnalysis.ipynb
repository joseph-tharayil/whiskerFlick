{
 "cells": [
  {
   "cell_type": "markdown",
   "metadata": {},
   "source": [
    "# This notebook generates Figure 3d in the paper\n",
    "## It also produces data used in Supplementary Table 1"
   ]
  },
  {
   "cell_type": "code",
   "execution_count": 1,
   "metadata": {},
   "outputs": [],
   "source": [
    "# SPDX-License-Identifier: GPL-3.0-or-later"
   ]
  },
  {
   "cell_type": "code",
   "execution_count": 2,
   "metadata": {},
   "outputs": [],
   "source": [
    "%matplotlib widget"
   ]
  },
  {
   "cell_type": "code",
   "execution_count": 3,
   "metadata": {},
   "outputs": [],
   "source": [
    "import numpy as np\n",
    "import matplotlib.pyplot as plt\n",
    "import pandas as pd\n",
    "import os\n",
    "from scipy.stats import linregress\n",
    "import matplotlib\n",
    "font = {'size'   : 12}\n",
    "\n",
    "matplotlib.rc('font', **font)\n",
    "import conntility\n"
   ]
  },
  {
   "cell_type": "markdown",
   "metadata": {},
   "source": [
    "# Samples cells from among L5PCs in the subvolume and gets scaling factors"
   ]
  },
  {
   "cell_type": "code",
   "execution_count": 4,
   "metadata": {},
   "outputs": [],
   "source": [
    "import bluepysnap as bp\n",
    "s = bp.Simulation('/gpfs/bbp.cscs.ch/project/proj83/scratch/home/tharayil/BlueRecording/examples/whiskerFlick/data/simulation/simulation_config.json')\n",
    "circuit = s.circuit"
   ]
  },
  {
   "cell_type": "code",
   "execution_count": 5,
   "metadata": {},
   "outputs": [],
   "source": [
    "nodes = circuit.nodes"
   ]
  },
  {
   "cell_type": "code",
   "execution_count": 11,
   "metadata": {},
   "outputs": [],
   "source": [
    "# Loads a generator that produces the cell types for all cells in the subvolume\n",
    "nFl = nodes.get('hex_O1',properties=['mtype'])\n"
   ]
  },
  {
   "cell_type": "code",
   "execution_count": 12,
   "metadata": {},
   "outputs": [],
   "source": [
    "# Loads node ids for Layer 5 PC cells from each of the above regions\n",
    "\n",
    "Fl = next(nFl)[1]\n",
    "\n",
    "Fl = np.array(list(Fl[Fl['mtype'].isin(['L5_TPC:A','L5_TPC:B','L5_TPC:C','L5_UPC'])].index))[:,1].astype(int)\n",
    "\n"
   ]
  },
  {
   "cell_type": "code",
   "execution_count": 13,
   "metadata": {},
   "outputs": [
    {
     "data": {
      "text/plain": [
       "35144"
      ]
     },
     "execution_count": 13,
     "metadata": {},
     "output_type": "execute_result"
    }
   ],
   "source": [
    "len(Fl) # Number of L5PCs, used in Supplementary Table 1"
   ]
  },
  {
   "cell_type": "code",
   "execution_count": 14,
   "metadata": {},
   "outputs": [],
   "source": [
    "import h5py"
   ]
  },
  {
   "cell_type": "code",
   "execution_count": 15,
   "metadata": {},
   "outputs": [],
   "source": [
    "# Loads the weights file\n",
    "\n",
    "coeffsFile = \"/gpfs/bbp.cscs.ch/project/proj83/scratch/home/tharayil/BlueRecording/examples/whiskerFlick/electrodeFile/coeffs_eeg.h5\"\n",
    "\n",
    "coeffs = h5py.File(coeffsFile)"
   ]
  },
  {
   "cell_type": "code",
   "execution_count": 16,
   "metadata": {},
   "outputs": [],
   "source": [
    "# Node ids from weights file\n",
    "allNodeIds = coeffs['S1nonbarrel_neurons']['node_ids']"
   ]
  },
  {
   "cell_type": "code",
   "execution_count": 17,
   "metadata": {},
   "outputs": [],
   "source": [
    "# Finds indices in the weights file of nodes in the selected regions\n",
    "\n",
    "flIndex = np.where(np.isin(allNodeIds[:],Fl))[0]\n",
    "\n"
   ]
  },
  {
   "cell_type": "code",
   "execution_count": 18,
   "metadata": {},
   "outputs": [],
   "source": [
    "np.random.seed(1776)\n",
    "\n",
    "# Samples nodes from the selected regions\n",
    "\n",
    "flIndex = np.sort(np.random.choice(flIndex,1000,replace=False))\n",
    "\n",
    "\n",
    "FLshort = allNodeIds[:][flIndex]\n",
    "\n"
   ]
  },
  {
   "cell_type": "code",
   "execution_count": 19,
   "metadata": {},
   "outputs": [],
   "source": [
    "# Finds offsets for the compartment weights for the selected nodes\n",
    "\n",
    "flOffsets = [coeffs['S1nonbarrel_neurons']['offsets'][:][flIndex],coeffs['S1nonbarrel_neurons']['offsets'][:][flIndex+1]]\n",
    "\n"
   ]
  },
  {
   "cell_type": "code",
   "execution_count": 23,
   "metadata": {},
   "outputs": [],
   "source": [
    "# Gets compartment weights for the selected nodes (shifted such that the minimum weight for each neuron is 0)\n",
    "\n",
    "scaleFacFl = []\n",
    "\n",
    "ranges = []\n",
    "\n",
    "\n",
    "for i in range(len(flOffsets[0])):\n",
    "    \n",
    "    sfl = coeffs['electrodes']['S1nonbarrel_neurons']['scaling_factors'][flOffsets[0][i]:flOffsets[1][i]][:,0]\n",
    "    sfl -= np.min(sfl)\n",
    "\n",
    "    scaleFacFl.append( sfl )\n",
    "\n",
    "    ranges.append(np.percentile(sfl,90) - np.percentile(sfl,10))\n"
   ]
  },
  {
   "cell_type": "code",
   "execution_count": 1,
   "metadata": {},
   "outputs": [
    {
     "ename": "NameError",
     "evalue": "name 'np' is not defined",
     "output_type": "error",
     "traceback": [
      "\u001b[0;31m---------------------------------------------------------------------------\u001b[0m",
      "\u001b[0;31mNameError\u001b[0m                                 Traceback (most recent call last)",
      "Cell \u001b[0;32mIn[1], line 1\u001b[0m\n\u001b[0;32m----> 1\u001b[0m r \u001b[38;5;241m=\u001b[39m \u001b[43mnp\u001b[49m\u001b[38;5;241m.\u001b[39mmean(ranges) \u001b[38;5;66;03m# Range of weights, used in supplementary table 1\u001b[39;00m\n",
      "\u001b[0;31mNameError\u001b[0m: name 'np' is not defined"
     ]
    }
   ],
   "source": [
    "r = np.mean(ranges) # Range of weights, used in supplementary table 1"
   ]
  },
  {
   "cell_type": "markdown",
   "metadata": {},
   "source": [
    "# Loads 3d positions"
   ]
  },
  {
   "cell_type": "code",
   "execution_count": 68,
   "metadata": {},
   "outputs": [],
   "source": [
    "path_to_positions = \"compartment/c6374a94-59b9-468d-8958-f7c8f876e562/0/positions/\"\n"
   ]
  },
  {
   "cell_type": "code",
   "execution_count": 69,
   "metadata": {},
   "outputs": [],
   "source": [
    "# Loads positions for a subset of the selected nodes\n",
    "\n",
    "allIds = [FLshort]\n",
    "\n",
    "allIds = [s for item in allIds for s in item]\n",
    "\n",
    "allIds = np.array(allIds)\n",
    "\n",
    "import os\n",
    "\n",
    "i = 0\n",
    "\n",
    "for subfolder in os.listdir(path_to_positions):\n",
    "    for file in os.listdir(path_to_positions+subfolder):\n",
    "        \n",
    "        if i > 10:\n",
    "            break\n",
    "        \n",
    "        positions = pd.read_pickle(path_to_positions+subfolder+'/'+file)\n",
    "        \n",
    "        columns = np.array(list(positions.columns))[:,0]\n",
    "        \n",
    "        indices = np.where(np.isin(allIds,columns))[0]\n",
    "        \n",
    "        if len(indices)==0:\n",
    "            continue\n",
    "        \n",
    "        idsInFile = allIds[indices]\n",
    "\n",
    "        positions = positions[idsInFile]\n",
    "        \n",
    "        if i == 0:\n",
    "            allPositions = positions\n",
    "        else:\n",
    "            allPositions = pd.concat((allPositions,positions),axis=1)\n",
    "            \n",
    "        i += 1\n",
    "        "
   ]
  },
  {
   "cell_type": "code",
   "execution_count": 70,
   "metadata": {},
   "outputs": [],
   "source": [
    "ids = np.unique(np.array(list(allPositions.columns))[:,0])"
   ]
  },
  {
   "cell_type": "code",
   "execution_count": 71,
   "metadata": {},
   "outputs": [],
   "source": [
    "def getNeuronSegmentMidpts(position):\n",
    "    '''\n",
    "    Gets midpoints for a single neuron\n",
    "    '''\n",
    "\n",
    "    \n",
    "    secIds = np.array(list(position.columns))\n",
    "    uniqueSecIds = np.unique(secIds)\n",
    "\n",
    "    for sId in uniqueSecIds: # Iterates through sections\n",
    "\n",
    "        pos = position.iloc[:,np.where(sId == secIds)[0]]\n",
    "\n",
    "        if sId == 0: # Implies that section is a soma, so we just take the position from the file\n",
    "\n",
    "            newPos = pos\n",
    " \n",
    "        elif np.shape(pos.values)[-1] == 1: # If there is only one point in the section, we just take the value\n",
    "            newPos = pd.concat((newPos,pos),axis=1)\n",
    "\n",
    "        else: # We take the midpoints of the values in the file, which are the endpoints of the segments\n",
    "            pos = (pos.iloc[:,:-1]+pos.iloc[:,1:])/2\n",
    "\n",
    "            newPos = pd.concat((newPos,pos),axis=1)\n",
    "\n",
    "    return newPos"
   ]
  },
  {
   "cell_type": "code",
   "execution_count": 72,
   "metadata": {},
   "outputs": [],
   "source": [
    "# Spatial positions of the electrodes\n",
    "\n",
    "eeg = np.array([3996,-777,2423.97])\n",
    "returnElectrode = np.array([2677,851,2947.32])\n"
   ]
  },
  {
   "cell_type": "markdown",
   "metadata": {},
   "source": [
    "The following cell produces Figure 3d:"
   ]
  },
  {
   "cell_type": "code",
   "execution_count": 74,
   "metadata": {},
   "outputs": [
    {
     "data": {
      "application/vnd.jupyter.widget-view+json": {
       "model_id": "e553c0abe2b649c4a8aa076492906e33",
       "version_major": 2,
       "version_minor": 0
      },
      "image/png": "[encoded data removed]",
      "text/html": [
       "\n",
       "            <div style=\"display: inline-block;\">\n",
       "                <div class=\"jupyter-widgets widget-label\" style=\"text-align: center;\">\n",
       "                    Figure\n",
       "                </div>\n",
       "                <img src='data:image/png;base64,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' width=400.0/>\n",
       "            </div>\n",
       "        "
      ],
      "text/plain": [
       "Canvas(toolbar=Toolbar(toolitems=[('Home', 'Reset original view', 'home', 'home'), ('Back', 'Back to previous …"
      ]
     },
     "metadata": {},
     "output_type": "display_data"
    }
   ],
   "source": [
    "from matplotlib.gridspec import GridSpec\n",
    "\n",
    "\n",
    "import types\n",
    "\n",
    "plt.rcParams['axes.formatter.useoffset'] = False\n",
    "\n",
    "fig = plt.figure(figsize=(4,4))\n",
    "\n",
    "ax1 = fig.add_subplot(1,1,1,projection='3d')\n",
    "\n",
    "#####\n",
    "# Iterates through the node ids of the neurons whose positions have been loaded\n",
    "# Plots the positions in 3d, colored according to the compartment weights for EEG\n",
    "for i in ids[:100]:\n",
    "    \n",
    "    if i in FLshort:\n",
    "        region = FLshort\n",
    "        marker = 'o'\n",
    "        scaleFac = scaleFacFl\n",
    "        color = 'C0'\n",
    "    elif i in HLshort:\n",
    "        region = HLshort\n",
    "        marker = 'v'\n",
    "        scaleFac = scaleFacHl\n",
    "        color='C1'\n",
    "    elif i in ULPshort:\n",
    "        region = ULPshort\n",
    "        marker ='s'\n",
    "        scaleFac = scaleFacULp\n",
    "        color='C2'\n",
    "        \n",
    "    index = np.where(region==i)[0][0]\n",
    "    \n",
    "    scale = scaleFac[index]\n",
    "    \n",
    "    p = getNeuronSegmentMidpts(allPositions[i]).values\n",
    "        \n",
    "    im = ax1.scatter(p[0],p[1],p[2],marker=marker,c=scale,s=.5)#,vmin=0,vmax=5e-9)\n",
    "    \n",
    "ax1.view_init(elev=9., azim=-85)\n",
    "\n",
    "# Plots locations of electrodes\n",
    "ax1.scatter(eeg[0],eeg[1],eeg[2],c='r',s=20)\n",
    "ax1.scatter(returnElectrode[0],returnElectrode[1],returnElectrode[2],c='r',s=20) \n",
    "\n",
    "ax1.set_xlim((2801.1161576783625, 5500))\n",
    "ax1.set_ylim((0, 1883.8635116069354))\n",
    "ax1.set_zlim((-4332.110601382281, 914.4962633882312))\n",
    "\n",
    "\n",
    "ax1.axis('off')\n",
    "\n",
    "cb = plt.colorbar(im,fraction=0.25,location='bottom')\n",
    "\n",
    "cb.set_label(label='Compartment weights (V/nA)',labelpad=20)\n",
    "# cb.set_ticks([])\n",
    "#####\n",
    "\n",
    "plt.savefig('figures/neurons.png',dpi=600)"
   ]
  },
  {
   "cell_type": "code",
   "execution_count": null,
   "metadata": {},
   "outputs": [],
   "source": []
  },
  {
   "cell_type": "code",
   "execution_count": null,
   "metadata": {},
   "outputs": [],
   "source": []
  }
 ],
 "metadata": {
  "kernelspec": {
   "display_name": "Python 3 (ipykernel)",
   "language": "python",
   "name": "python3"
  },
  "language_info": {
   "codemirror_mode": {
    "name": "ipython",
    "version": 3
   },
   "file_extension": ".py",
   "mimetype": "text/x-python",
   "name": "python",
   "nbconvert_exporter": "python",
   "pygments_lexer": "ipython3",
   "version": "3.11.6"
  }
 },
 "nbformat": 4,
 "nbformat_minor": 4
}
