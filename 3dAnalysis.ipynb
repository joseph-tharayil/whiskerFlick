{
 "cells": [
  {
   "cell_type": "code",
   "execution_count": 1,
   "metadata": {},
   "outputs": [],
   "source": [
    "# SPDX-License-Identifier: GPL-3.0-or-later"
   ]
  },
  {
   "cell_type": "code",
   "execution_count": 2,
   "metadata": {},
   "outputs": [],
   "source": [
    "%matplotlib widget"
   ]
  },
  {
   "cell_type": "code",
   "execution_count": 3,
   "metadata": {},
   "outputs": [],
   "source": [
    "import numpy as np\n",
    "import matplotlib.pyplot as plt\n",
    "import pandas as pd\n",
    "import os\n",
    "from scipy.stats import linregress\n",
    "import matplotlib\n",
    "font = {'size'   : 12}\n",
    "\n",
    "matplotlib.rc('font', **font)\n",
    "import conntility\n"
   ]
  },
  {
   "cell_type": "markdown",
   "metadata": {},
   "source": [
    "# Samples cells from exemplary regions and gets scaling factors"
   ]
  },
  {
   "cell_type": "code",
   "execution_count": 42,
   "metadata": {},
   "outputs": [],
   "source": [
    "import bluepysnap as bp\n",
    "s = bp.Simulation('/gpfs/bbp.cscs.ch/project/proj83/scratch/home/tharayil/BlueRecording/examples/whiskerFlick/data/simulation/simulation_config.json')\n",
    "circuit = s.circuit"
   ]
  },
  {
   "cell_type": "code",
   "execution_count": 43,
   "metadata": {},
   "outputs": [],
   "source": [
    "nodes = circuit.nodes"
   ]
  },
  {
   "cell_type": "code",
   "execution_count": 44,
   "metadata": {},
   "outputs": [],
   "source": [
    "# Loads a generator that produces the cell types for all cells in forelimb, hindlimb, and upper lip regions\n",
    "\n",
    "nFl = nodes.get('S1FL',properties=['mtype'])\n"
   ]
  },
  {
   "cell_type": "code",
   "execution_count": 45,
   "metadata": {},
   "outputs": [],
   "source": [
    "# Loads node ids for Layer 5 TPC:A cells from each of the above regions\n",
    "\n",
    "Fl = next(nFl)[1]\n",
    "Fl = np.array(list(Fl[Fl['mtype']=='L5_TPC:A'].index))[:,1].astype(int)\n",
    "\n"
   ]
  },
  {
   "cell_type": "code",
   "execution_count": 46,
   "metadata": {},
   "outputs": [],
   "source": [
    "import h5py"
   ]
  },
  {
   "cell_type": "code",
   "execution_count": 47,
   "metadata": {},
   "outputs": [],
   "source": [
    "# Loads the weights file\n",
    "\n",
    "coeffsFile = \"/gpfs/bbp.cscs.ch/project/proj83/scratch/home/tharayil/BlueRecording/examples/whiskerFlick/electrodeFile/coeffs_eeg.h5\"\n",
    "\n",
    "coeffs = h5py.File(coeffsFile)"
   ]
  },
  {
   "cell_type": "code",
   "execution_count": 48,
   "metadata": {},
   "outputs": [],
   "source": [
    "# Node ids from weights file\n",
    "allNodeIds = coeffs['S1nonbarrel_neurons']['node_ids']"
   ]
  },
  {
   "cell_type": "code",
   "execution_count": 49,
   "metadata": {},
   "outputs": [],
   "source": [
    "# Finds indices in the weights file of nodes in the selected regions\n",
    "\n",
    "flIndex = np.where(np.isin(allNodeIds[:],Fl))[0]\n",
    "\n"
   ]
  },
  {
   "cell_type": "code",
   "execution_count": 50,
   "metadata": {},
   "outputs": [],
   "source": [
    "np.random.seed(1776)\n",
    "\n",
    "# Samples nodes from the selected regions\n",
    "\n",
    "flIndex = np.sort(np.random.choice(flIndex,1000,replace=False))\n",
    "\n",
    "\n",
    "FLshort = allNodeIds[:][flIndex]\n",
    "\n"
   ]
  },
  {
   "cell_type": "code",
   "execution_count": 51,
   "metadata": {},
   "outputs": [],
   "source": [
    "# Finds offsets for the compartment weights for the selected nodes\n",
    "\n",
    "flOffsets = [coeffs['S1nonbarrel_neurons']['offsets'][:][flIndex],coeffs['S1nonbarrel_neurons']['offsets'][:][flIndex+1]]\n",
    "\n"
   ]
  },
  {
   "cell_type": "code",
   "execution_count": 61,
   "metadata": {},
   "outputs": [],
   "source": [
    "# Gets compartment weights for the selected nodes (shifted such that the minimum weight for each neuron is 0)\n",
    "\n",
    "scaleFacFl = []\n",
    "\n",
    "\n",
    "for i in range(len(flOffsets[0])):\n",
    "    \n",
    "    sfl = coeffs['electrodes']['S1nonbarrel_neurons']['scaling_factors'][flOffsets[0][i]:flOffsets[1][i]][:,0]\n",
    "    sfl -= np.min(sfl)\n",
    "\n",
    "    scaleFacFl.append( sfl )\n"
   ]
  },
  {
   "cell_type": "code",
   "execution_count": 60,
   "metadata": {},
   "outputs": [
    {
     "data": {
      "text/plain": [
       "array([0., 0., 0., ..., 0., 0., 0.])"
      ]
     },
     "execution_count": 60,
     "metadata": {},
     "output_type": "execute_result"
    }
   ],
   "source": [
    "sfl"
   ]
  },
  {
   "cell_type": "markdown",
   "metadata": {},
   "source": [
    "# Loads 3d positions"
   ]
  },
  {
   "cell_type": "code",
   "execution_count": 18,
   "metadata": {},
   "outputs": [],
   "source": [
    "path_to_positions = \"compartment/c6374a94-59b9-468d-8958-f7c8f876e562/0/positions/\"\n"
   ]
  },
  {
   "cell_type": "code",
   "execution_count": 19,
   "metadata": {},
   "outputs": [],
   "source": [
    "# Loads positions for a subset of the selected nodes\n",
    "\n",
    "allIds = [FLshort]\n",
    "\n",
    "allIds = [s for item in allIds for s in item]\n",
    "\n",
    "allIds = np.array(allIds)\n",
    "\n",
    "import os\n",
    "\n",
    "i = 0\n",
    "\n",
    "for subfolder in os.listdir(path_to_positions):\n",
    "    for file in os.listdir(path_to_positions+subfolder):\n",
    "        \n",
    "        if i > 10:\n",
    "            break\n",
    "        \n",
    "        positions = pd.read_pickle(path_to_positions+subfolder+'/'+file)\n",
    "        \n",
    "        columns = np.array(list(positions.columns))[:,0]\n",
    "        \n",
    "        indices = np.where(np.isin(allIds,columns))[0]\n",
    "        \n",
    "        if len(indices)==0:\n",
    "            continue\n",
    "        \n",
    "        idsInFile = allIds[indices]\n",
    "\n",
    "        positions = positions[idsInFile]\n",
    "        \n",
    "        if i == 0:\n",
    "            allPositions = positions\n",
    "        else:\n",
    "            allPositions = pd.concat((allPositions,positions),axis=1)\n",
    "            \n",
    "        i += 1\n",
    "        "
   ]
  },
  {
   "cell_type": "code",
   "execution_count": 20,
   "metadata": {},
   "outputs": [],
   "source": [
    "ids = np.unique(np.array(list(allPositions.columns))[:,0])"
   ]
  },
  {
   "cell_type": "code",
   "execution_count": 21,
   "metadata": {},
   "outputs": [],
   "source": [
    "def getNeuronSegmentMidpts(position):\n",
    "    '''\n",
    "    Gets midpoints for a single neuron\n",
    "    '''\n",
    "\n",
    "    \n",
    "    secIds = np.array(list(position.columns))\n",
    "    uniqueSecIds = np.unique(secIds)\n",
    "\n",
    "    for sId in uniqueSecIds: # Iterates through sections\n",
    "\n",
    "        pos = position.iloc[:,np.where(sId == secIds)[0]]\n",
    "\n",
    "        if sId == 0: # Implies that section is a soma, so we just take the position from the file\n",
    "\n",
    "            newPos = pos\n",
    " \n",
    "        elif np.shape(pos.values)[-1] == 1: # If there is only one point in the section, we just take the value\n",
    "            newPos = pd.concat((newPos,pos),axis=1)\n",
    "\n",
    "        else: # We take the midpoints of the values in the file, which are the endpoints of the segments\n",
    "            pos = (pos.iloc[:,:-1]+pos.iloc[:,1:])/2\n",
    "\n",
    "            newPos = pd.concat((newPos,pos),axis=1)\n",
    "\n",
    "    return newPos"
   ]
  },
  {
   "cell_type": "code",
   "execution_count": 22,
   "metadata": {},
   "outputs": [],
   "source": [
    "# Spatial positions of the electrodes\n",
    "\n",
    "# ecog = np.array([3996,-777,-308.95])\n",
    "eeg = np.array([3996,-777,2423.97])\n",
    "returnElectrode = np.array([2677,851,2947.32])\n",
    "# lfp = np.array([3996,-777,-1308.95])"
   ]
  },
  {
   "cell_type": "code",
   "execution_count": 24,
   "metadata": {},
   "outputs": [],
   "source": [
    "import numpy\n",
    "import pandas\n",
    "import h5py\n",
    "import os\n",
    "\n",
    "import neurom\n",
    "import conntility\n",
    "import bluepysnap as bluepy\n",
    "\n",
    "from scipy import interpolate\n",
    "from matplotlib import pyplot as plt\n",
    "\n",
    "fn_electrodes = \"compartment/c6374a94-59b9-468d-8958-f7c8f876e562/0/coeffs_eeg.h5\"\n",
    "fn_sim = 'compartment/c6374a94-59b9-468d-8958-f7c8f876e562/0/simulation_config.json'\n",
    "neuron_pop_str = \"S1nonbarrel_neurons\"\n",
    "\n",
    "\n",
    "class ElectrodeReader(object):\n",
    "    def __init__(self, fn_electrodes, fn_sim, neuron_pop_str):\n",
    "        self.sim = bluepy.Simulation(fn_sim)\n",
    "        self.circ = self.sim.circuit\n",
    "        self.elec_h5 = h5py.File(fn_electrodes, \"r\")\n",
    "        self.pop = neuron_pop_str\n",
    "        self.e_df = self._read_electrode_metadata()\n",
    "        self.nrn_df = self._read_neuron_dataframe()\n",
    "        rep_fn = os.path.join(self.sim.config[\"output\"][\"output_dir\"],\n",
    "                              self.sim.reports[\"compartment\"].config[\"file_name\"] + \".h5\")\n",
    "        self.rep = h5py.File(rep_fn, \"r\")\n",
    "\n",
    "        \n",
    "    def _read_electrode_metadata(self):\n",
    "        grp = self.elec_h5[\"electrodes\"]\n",
    "\n",
    "        populations = list(self.elec_h5.keys())\n",
    "        populations.pop(populations.index(\"electrodes\"))\n",
    "        assert self.pop in populations\n",
    "\n",
    "        electrodes = [int(_k) for _k in grp.keys() if _k not in populations]\n",
    "        props = [\"layer\", \"position\", \"region\", \"type\"]\n",
    "\n",
    "        electrode_series = []\n",
    "        for electrode_id in electrodes:\n",
    "            e = pandas.Series(dict([(_prop, grp[str(electrode_id)][_prop][()])\n",
    "                                     for _prop in props]))\n",
    "            electrode_series.append(e)\n",
    "\n",
    "        e_df = pandas.concat(electrode_series, axis=1, keys=electrodes).transpose()\n",
    "        return e_df\n",
    "    \n",
    "    def _read_neuron_dataframe(self):\n",
    "        props = [\"mtype\", \"morphology\", \"layer\", \"region\", \"x\", \"y\", \"z\", \"flat_x\", \"flat_y\"]\n",
    "        nrn = conntility.circuit_models.neuron_groups.load_neurons(self.circ, props,\n",
    "                                                           base_target=self.sim.config[\"node_set\"],\n",
    "                                                           node_population=self.pop)\n",
    "        return nrn\n",
    "    \n",
    "    def morph_dir(self, morph_format=\"h5v1\"):\n",
    "        nodes = self.circ.config[\"networks\"][\"nodes\"][0]\n",
    "        return nodes[\"populations\"][self.pop][\"alternate_morphologies\"][morph_format]\n",
    "    \n",
    "    def mapping_sec_ids(self, node_id):\n",
    "        rep_grp = self.rep[\"report\"][self.pop][\"mapping\"]\n",
    "        j = numpy.nonzero(rep_grp[\"node_ids\"][:] == node_id)[0][0]\n",
    "        idx = rep_grp[\"index_pointers\"][j:j+2]\n",
    "\n",
    "        e_ids = rep_grp[\"element_ids\"][idx[0]:idx[1]]\n",
    "        return e_ids\n",
    "    \n",
    "    def electrode_weights(self, node_id):\n",
    "        node_ids = self.elec_h5[self.pop][\"node_ids\"][:]\n",
    "        assert node_id in node_ids\n",
    "        i = numpy.nonzero(node_ids == node_id)[0][0]\n",
    "        idx = self.elec_h5[self.pop][\"offsets\"][i:(i+2)]\n",
    "        \n",
    "        factors = self.elec_h5[\"electrodes\"][self.pop][\"scaling_factors\"][idx[0]:idx[1]]\n",
    "\n",
    "        factors -= factors.min(axis=0)\n",
    "        \n",
    "        \n",
    "        e_ids = self.mapping_sec_ids(node_id)\n",
    "        factor_df = pandas.DataFrame(factors, index=pandas.Index(e_ids.astype(int) - 1, name=\"sec_id\"))\n",
    "        return factor_df\n",
    "    \n",
    "    def morphology(self, node_id):\n",
    "        morph_fn = os.path.join(\n",
    "            self.morph_dir(),\n",
    "            self.nrn_df.set_index(\"node_ids\")[\"morphology\"][node_id] + \".h5\"\n",
    "        )\n",
    "        return neurom.load_morphology(morph_fn)\n",
    "    \n",
    "    def neuron(self, node_id, electrode_id):\n",
    "        return ElectrodeHelper(self.electrode_weights(node_id)[electrode_id],\n",
    "                               self.morphology(node_id))\n",
    "\n",
    "    \n",
    "class ElectrodeHelper(object):\n",
    "    def __init__(self, weights, morphology):\n",
    "        self.weights = weights\n",
    "        self.morph = morphology\n",
    "        \n",
    "    @property\n",
    "    def sec_types(self):\n",
    "        data = [[_sec.id, int(_sec.type)] for _sec in self.morph.sections]\n",
    "        sec_type = pandas.DataFrame(data, columns=[\"sec_id\", \"sec_type\"]).set_index(\"sec_id\")[\"sec_type\"]\n",
    "        sec_type[-1] = 1 # soma\n",
    "        sec_type[numpy.max(sec_type.index) + 1] = 5 # invalid\n",
    "        return sec_type\n",
    "    \n",
    "    def mean(self):\n",
    "        return self.weights.mean()\n",
    "    \n",
    "    def means_for_types(self):\n",
    "        sec_type = self.sec_types\n",
    "        tmp_df = pandas.Series(self.weights.values, name=\"weights\",\n",
    "                              index=pandas.Index(sec_type[self.weights.index].values, name=\"sec_type\"))\n",
    "        return tmp_df.groupby(\"sec_type\").mean()\n",
    "    \n",
    "    def hist_for_types(self, nbins=31):\n",
    "        bins = numpy.linspace(self.weights.min(), self.weights.max() + 1E-12, nbins+1)\n",
    "        sec_type = self.sec_types\n",
    "        tmp_df = pandas.Series(self.weights.values, name=\"weights\",\n",
    "                              index=pandas.Index(sec_type[self.weights.index].values, name=\"sec_type\"))\n",
    "        def hist_series(w):\n",
    "            bin_centers = 0.5 * (bins[:-1] + bins[1:])\n",
    "            return pandas.Series(\n",
    "                numpy.histogram(w, bins=bins)[0], name=\"count\",\n",
    "                index=pandas.Index(bin_centers, name=\"weight\")\n",
    "            )\n",
    "        return tmp_df.groupby(\"sec_type\").apply(hist_series).unstack(\"weight\")\n",
    "    \n",
    "    def plot(self, ax=None):\n",
    "        if ax is None:\n",
    "            fig = plt.figure(figsize=(3, 7))\n",
    "            ax = fig.gca()\n",
    "        \n",
    "        f_norm = (self.weights - self.weights.min()) / (self.weights.max() - self.weights.min())\n",
    "        morph = self.morph\n",
    "\n",
    "        # Soma\n",
    "        _c = f_norm[-1]\n",
    "        #plt.plot(0, 0, marker='o', color=[1.0 - _c, _c, 0])\n",
    "\n",
    "        for sec in morph.sections:\n",
    "            if sec.id not in f_norm:\n",
    "                continue\n",
    "            l = numpy.linalg.norm(numpy.diff(sec.points, axis=0)[:, :3], axis=1)\n",
    "            L = numpy.sum(l)\n",
    "            midpoints = 0.5 * (numpy.hstack([0, numpy.cumsum(l[:-1])]) + numpy.cumsum(l))\n",
    "\n",
    "            this_diff = f_norm[sec.id]\n",
    "            if isinstance(this_diff, float):\n",
    "                this_diff = numpy.array([this_diff])\n",
    "            else:\n",
    "                this_diff = this_diff.values\n",
    "\n",
    "            x = numpy.linspace(0, L, len(this_diff) + 2)[1:-1]\n",
    "            c = numpy.interp(midpoints, x, this_diff, left=this_diff[0],right=this_diff[-1])\n",
    "\n",
    "            for p_fr, p_to, _c in zip(sec.points[:-1], sec.points[1:], c):\n",
    "                ax.plot([p_fr[0], p_to[0]], [p_fr[1], p_to[1]],\n",
    "                        color=[1.0 - _c, _c, 0])\n",
    "\n",
    "        ax.set_aspect(\"equal\")\n",
    "        ax.set_frame_on(False)\n",
    "    \n",
    "    \n",
    "tst = ElectrodeReader(fn_electrodes, fn_sim, neuron_pop_str)"
   ]
  },
  {
   "cell_type": "markdown",
   "metadata": {},
   "source": [
    "## Exemplary neurons in each region\n",
    "\n",
    "In each region of the model, we find a neuron of the target m-type (L5_TPC:A) that is among the most central.\n",
    "We use it as a representative example of how a neuron in that region would be affecting the signal"
   ]
  },
  {
   "cell_type": "code",
   "execution_count": 25,
   "metadata": {},
   "outputs": [
    {
     "name": "stderr",
     "output_type": "stream",
     "text": [
      "/gpfs/bbp.cscs.ch/ssd/slurmTmpFS/tharayil/2567827/ipykernel_185896/1577147346.py:1: FutureWarning: The default of observed=False is deprecated and will be changed to True in a future version of pandas. Pass observed=False to retain current behavior or observed=True to adopt the future default and silence this warning.\n",
      "  region_centers = tst.nrn_df.groupby(\"region\")[[\"flat_x\", \"flat_y\"]].mean().astype(int).reset_index()\n"
     ]
    },
    {
     "ename": "IntCastingNaNError",
     "evalue": "Cannot convert non-finite values (NA or inf) to integer",
     "output_type": "error",
     "traceback": [
      "\u001b[0;31m---------------------------------------------------------------------------\u001b[0m",
      "\u001b[0;31mIntCastingNaNError\u001b[0m                        Traceback (most recent call last)",
      "Cell \u001b[0;32mIn[25], line 1\u001b[0m\n\u001b[0;32m----> 1\u001b[0m region_centers \u001b[38;5;241m=\u001b[39m \u001b[43mtst\u001b[49m\u001b[38;5;241;43m.\u001b[39;49m\u001b[43mnrn_df\u001b[49m\u001b[38;5;241;43m.\u001b[39;49m\u001b[43mgroupby\u001b[49m\u001b[43m(\u001b[49m\u001b[38;5;124;43m\"\u001b[39;49m\u001b[38;5;124;43mregion\u001b[39;49m\u001b[38;5;124;43m\"\u001b[39;49m\u001b[43m)\u001b[49m\u001b[43m[\u001b[49m\u001b[43m[\u001b[49m\u001b[38;5;124;43m\"\u001b[39;49m\u001b[38;5;124;43mflat_x\u001b[39;49m\u001b[38;5;124;43m\"\u001b[39;49m\u001b[43m,\u001b[49m\u001b[43m \u001b[49m\u001b[38;5;124;43m\"\u001b[39;49m\u001b[38;5;124;43mflat_y\u001b[39;49m\u001b[38;5;124;43m\"\u001b[39;49m\u001b[43m]\u001b[49m\u001b[43m]\u001b[49m\u001b[38;5;241;43m.\u001b[39;49m\u001b[43mmean\u001b[49m\u001b[43m(\u001b[49m\u001b[43m)\u001b[49m\u001b[38;5;241;43m.\u001b[39;49m\u001b[43mastype\u001b[49m\u001b[43m(\u001b[49m\u001b[38;5;28;43mint\u001b[39;49m\u001b[43m)\u001b[49m\u001b[38;5;241m.\u001b[39mreset_index()\n\u001b[1;32m      2\u001b[0m display(region_centers)\n\u001b[1;32m      3\u001b[0m morph_lookup \u001b[38;5;241m=\u001b[39m tst\u001b[38;5;241m.\u001b[39mnrn_df\u001b[38;5;241m.\u001b[39mset_index([\u001b[38;5;124m\"\u001b[39m\u001b[38;5;124mmtype\u001b[39m\u001b[38;5;124m\"\u001b[39m, \u001b[38;5;124m\"\u001b[39m\u001b[38;5;124mregion\u001b[39m\u001b[38;5;124m\"\u001b[39m, \u001b[38;5;124m\"\u001b[39m\u001b[38;5;124mflat_x\u001b[39m\u001b[38;5;124m\"\u001b[39m, \u001b[38;5;124m\"\u001b[39m\u001b[38;5;124mflat_y\u001b[39m\u001b[38;5;124m\"\u001b[39m])[\u001b[38;5;124m\"\u001b[39m\u001b[38;5;124mnode_ids\u001b[39m\u001b[38;5;124m\"\u001b[39m]\n",
      "File \u001b[0;32m~/bluerecording-dev/lib/python3.11/site-packages/pandas/core/generic.py:6643\u001b[0m, in \u001b[0;36mNDFrame.astype\u001b[0;34m(self, dtype, copy, errors)\u001b[0m\n\u001b[1;32m   6637\u001b[0m     results \u001b[38;5;241m=\u001b[39m [\n\u001b[1;32m   6638\u001b[0m         ser\u001b[38;5;241m.\u001b[39mastype(dtype, copy\u001b[38;5;241m=\u001b[39mcopy, errors\u001b[38;5;241m=\u001b[39merrors) \u001b[38;5;28;01mfor\u001b[39;00m _, ser \u001b[38;5;129;01min\u001b[39;00m \u001b[38;5;28mself\u001b[39m\u001b[38;5;241m.\u001b[39mitems()\n\u001b[1;32m   6639\u001b[0m     ]\n\u001b[1;32m   6641\u001b[0m \u001b[38;5;28;01melse\u001b[39;00m:\n\u001b[1;32m   6642\u001b[0m     \u001b[38;5;66;03m# else, only a single dtype is given\u001b[39;00m\n\u001b[0;32m-> 6643\u001b[0m     new_data \u001b[38;5;241m=\u001b[39m \u001b[38;5;28;43mself\u001b[39;49m\u001b[38;5;241;43m.\u001b[39;49m\u001b[43m_mgr\u001b[49m\u001b[38;5;241;43m.\u001b[39;49m\u001b[43mastype\u001b[49m\u001b[43m(\u001b[49m\u001b[43mdtype\u001b[49m\u001b[38;5;241;43m=\u001b[39;49m\u001b[43mdtype\u001b[49m\u001b[43m,\u001b[49m\u001b[43m \u001b[49m\u001b[43mcopy\u001b[49m\u001b[38;5;241;43m=\u001b[39;49m\u001b[43mcopy\u001b[49m\u001b[43m,\u001b[49m\u001b[43m \u001b[49m\u001b[43merrors\u001b[49m\u001b[38;5;241;43m=\u001b[39;49m\u001b[43merrors\u001b[49m\u001b[43m)\u001b[49m\n\u001b[1;32m   6644\u001b[0m     res \u001b[38;5;241m=\u001b[39m \u001b[38;5;28mself\u001b[39m\u001b[38;5;241m.\u001b[39m_constructor_from_mgr(new_data, axes\u001b[38;5;241m=\u001b[39mnew_data\u001b[38;5;241m.\u001b[39maxes)\n\u001b[1;32m   6645\u001b[0m     \u001b[38;5;28;01mreturn\u001b[39;00m res\u001b[38;5;241m.\u001b[39m__finalize__(\u001b[38;5;28mself\u001b[39m, method\u001b[38;5;241m=\u001b[39m\u001b[38;5;124m\"\u001b[39m\u001b[38;5;124mastype\u001b[39m\u001b[38;5;124m\"\u001b[39m)\n",
      "File \u001b[0;32m~/bluerecording-dev/lib/python3.11/site-packages/pandas/core/internals/managers.py:430\u001b[0m, in \u001b[0;36mBaseBlockManager.astype\u001b[0;34m(self, dtype, copy, errors)\u001b[0m\n\u001b[1;32m    427\u001b[0m \u001b[38;5;28;01melif\u001b[39;00m using_copy_on_write():\n\u001b[1;32m    428\u001b[0m     copy \u001b[38;5;241m=\u001b[39m \u001b[38;5;28;01mFalse\u001b[39;00m\n\u001b[0;32m--> 430\u001b[0m \u001b[38;5;28;01mreturn\u001b[39;00m \u001b[38;5;28;43mself\u001b[39;49m\u001b[38;5;241;43m.\u001b[39;49m\u001b[43mapply\u001b[49m\u001b[43m(\u001b[49m\n\u001b[1;32m    431\u001b[0m \u001b[43m    \u001b[49m\u001b[38;5;124;43m\"\u001b[39;49m\u001b[38;5;124;43mastype\u001b[39;49m\u001b[38;5;124;43m\"\u001b[39;49m\u001b[43m,\u001b[49m\n\u001b[1;32m    432\u001b[0m \u001b[43m    \u001b[49m\u001b[43mdtype\u001b[49m\u001b[38;5;241;43m=\u001b[39;49m\u001b[43mdtype\u001b[49m\u001b[43m,\u001b[49m\n\u001b[1;32m    433\u001b[0m \u001b[43m    \u001b[49m\u001b[43mcopy\u001b[49m\u001b[38;5;241;43m=\u001b[39;49m\u001b[43mcopy\u001b[49m\u001b[43m,\u001b[49m\n\u001b[1;32m    434\u001b[0m \u001b[43m    \u001b[49m\u001b[43merrors\u001b[49m\u001b[38;5;241;43m=\u001b[39;49m\u001b[43merrors\u001b[49m\u001b[43m,\u001b[49m\n\u001b[1;32m    435\u001b[0m \u001b[43m    \u001b[49m\u001b[43musing_cow\u001b[49m\u001b[38;5;241;43m=\u001b[39;49m\u001b[43musing_copy_on_write\u001b[49m\u001b[43m(\u001b[49m\u001b[43m)\u001b[49m\u001b[43m,\u001b[49m\n\u001b[1;32m    436\u001b[0m \u001b[43m\u001b[49m\u001b[43m)\u001b[49m\n",
      "File \u001b[0;32m~/bluerecording-dev/lib/python3.11/site-packages/pandas/core/internals/managers.py:363\u001b[0m, in \u001b[0;36mBaseBlockManager.apply\u001b[0;34m(self, f, align_keys, **kwargs)\u001b[0m\n\u001b[1;32m    361\u001b[0m         applied \u001b[38;5;241m=\u001b[39m b\u001b[38;5;241m.\u001b[39mapply(f, \u001b[38;5;241m*\u001b[39m\u001b[38;5;241m*\u001b[39mkwargs)\n\u001b[1;32m    362\u001b[0m     \u001b[38;5;28;01melse\u001b[39;00m:\n\u001b[0;32m--> 363\u001b[0m         applied \u001b[38;5;241m=\u001b[39m \u001b[38;5;28;43mgetattr\u001b[39;49m\u001b[43m(\u001b[49m\u001b[43mb\u001b[49m\u001b[43m,\u001b[49m\u001b[43m \u001b[49m\u001b[43mf\u001b[49m\u001b[43m)\u001b[49m\u001b[43m(\u001b[49m\u001b[38;5;241;43m*\u001b[39;49m\u001b[38;5;241;43m*\u001b[39;49m\u001b[43mkwargs\u001b[49m\u001b[43m)\u001b[49m\n\u001b[1;32m    364\u001b[0m     result_blocks \u001b[38;5;241m=\u001b[39m extend_blocks(applied, result_blocks)\n\u001b[1;32m    366\u001b[0m out \u001b[38;5;241m=\u001b[39m \u001b[38;5;28mtype\u001b[39m(\u001b[38;5;28mself\u001b[39m)\u001b[38;5;241m.\u001b[39mfrom_blocks(result_blocks, \u001b[38;5;28mself\u001b[39m\u001b[38;5;241m.\u001b[39maxes)\n",
      "File \u001b[0;32m~/bluerecording-dev/lib/python3.11/site-packages/pandas/core/internals/blocks.py:758\u001b[0m, in \u001b[0;36mBlock.astype\u001b[0;34m(self, dtype, copy, errors, using_cow, squeeze)\u001b[0m\n\u001b[1;32m    755\u001b[0m         \u001b[38;5;28;01mraise\u001b[39;00m \u001b[38;5;167;01mValueError\u001b[39;00m(\u001b[38;5;124m\"\u001b[39m\u001b[38;5;124mCan not squeeze with more than one column.\u001b[39m\u001b[38;5;124m\"\u001b[39m)\n\u001b[1;32m    756\u001b[0m     values \u001b[38;5;241m=\u001b[39m values[\u001b[38;5;241m0\u001b[39m, :]  \u001b[38;5;66;03m# type: ignore[call-overload]\u001b[39;00m\n\u001b[0;32m--> 758\u001b[0m new_values \u001b[38;5;241m=\u001b[39m \u001b[43mastype_array_safe\u001b[49m\u001b[43m(\u001b[49m\u001b[43mvalues\u001b[49m\u001b[43m,\u001b[49m\u001b[43m \u001b[49m\u001b[43mdtype\u001b[49m\u001b[43m,\u001b[49m\u001b[43m \u001b[49m\u001b[43mcopy\u001b[49m\u001b[38;5;241;43m=\u001b[39;49m\u001b[43mcopy\u001b[49m\u001b[43m,\u001b[49m\u001b[43m \u001b[49m\u001b[43merrors\u001b[49m\u001b[38;5;241;43m=\u001b[39;49m\u001b[43merrors\u001b[49m\u001b[43m)\u001b[49m\n\u001b[1;32m    760\u001b[0m new_values \u001b[38;5;241m=\u001b[39m maybe_coerce_values(new_values)\n\u001b[1;32m    762\u001b[0m refs \u001b[38;5;241m=\u001b[39m \u001b[38;5;28;01mNone\u001b[39;00m\n",
      "File \u001b[0;32m~/bluerecording-dev/lib/python3.11/site-packages/pandas/core/dtypes/astype.py:237\u001b[0m, in \u001b[0;36mastype_array_safe\u001b[0;34m(values, dtype, copy, errors)\u001b[0m\n\u001b[1;32m    234\u001b[0m     dtype \u001b[38;5;241m=\u001b[39m dtype\u001b[38;5;241m.\u001b[39mnumpy_dtype\n\u001b[1;32m    236\u001b[0m \u001b[38;5;28;01mtry\u001b[39;00m:\n\u001b[0;32m--> 237\u001b[0m     new_values \u001b[38;5;241m=\u001b[39m \u001b[43mastype_array\u001b[49m\u001b[43m(\u001b[49m\u001b[43mvalues\u001b[49m\u001b[43m,\u001b[49m\u001b[43m \u001b[49m\u001b[43mdtype\u001b[49m\u001b[43m,\u001b[49m\u001b[43m \u001b[49m\u001b[43mcopy\u001b[49m\u001b[38;5;241;43m=\u001b[39;49m\u001b[43mcopy\u001b[49m\u001b[43m)\u001b[49m\n\u001b[1;32m    238\u001b[0m \u001b[38;5;28;01mexcept\u001b[39;00m (\u001b[38;5;167;01mValueError\u001b[39;00m, \u001b[38;5;167;01mTypeError\u001b[39;00m):\n\u001b[1;32m    239\u001b[0m     \u001b[38;5;66;03m# e.g. _astype_nansafe can fail on object-dtype of strings\u001b[39;00m\n\u001b[1;32m    240\u001b[0m     \u001b[38;5;66;03m#  trying to convert to float\u001b[39;00m\n\u001b[1;32m    241\u001b[0m     \u001b[38;5;28;01mif\u001b[39;00m errors \u001b[38;5;241m==\u001b[39m \u001b[38;5;124m\"\u001b[39m\u001b[38;5;124mignore\u001b[39m\u001b[38;5;124m\"\u001b[39m:\n",
      "File \u001b[0;32m~/bluerecording-dev/lib/python3.11/site-packages/pandas/core/dtypes/astype.py:182\u001b[0m, in \u001b[0;36mastype_array\u001b[0;34m(values, dtype, copy)\u001b[0m\n\u001b[1;32m    179\u001b[0m     values \u001b[38;5;241m=\u001b[39m values\u001b[38;5;241m.\u001b[39mastype(dtype, copy\u001b[38;5;241m=\u001b[39mcopy)\n\u001b[1;32m    181\u001b[0m \u001b[38;5;28;01melse\u001b[39;00m:\n\u001b[0;32m--> 182\u001b[0m     values \u001b[38;5;241m=\u001b[39m \u001b[43m_astype_nansafe\u001b[49m\u001b[43m(\u001b[49m\u001b[43mvalues\u001b[49m\u001b[43m,\u001b[49m\u001b[43m \u001b[49m\u001b[43mdtype\u001b[49m\u001b[43m,\u001b[49m\u001b[43m \u001b[49m\u001b[43mcopy\u001b[49m\u001b[38;5;241;43m=\u001b[39;49m\u001b[43mcopy\u001b[49m\u001b[43m)\u001b[49m\n\u001b[1;32m    184\u001b[0m \u001b[38;5;66;03m# in pandas we don't store numpy str dtypes, so convert to object\u001b[39;00m\n\u001b[1;32m    185\u001b[0m \u001b[38;5;28;01mif\u001b[39;00m \u001b[38;5;28misinstance\u001b[39m(dtype, np\u001b[38;5;241m.\u001b[39mdtype) \u001b[38;5;129;01mand\u001b[39;00m \u001b[38;5;28missubclass\u001b[39m(values\u001b[38;5;241m.\u001b[39mdtype\u001b[38;5;241m.\u001b[39mtype, \u001b[38;5;28mstr\u001b[39m):\n",
      "File \u001b[0;32m~/bluerecording-dev/lib/python3.11/site-packages/pandas/core/dtypes/astype.py:101\u001b[0m, in \u001b[0;36m_astype_nansafe\u001b[0;34m(arr, dtype, copy, skipna)\u001b[0m\n\u001b[1;32m     96\u001b[0m     \u001b[38;5;28;01mreturn\u001b[39;00m lib\u001b[38;5;241m.\u001b[39mensure_string_array(\n\u001b[1;32m     97\u001b[0m         arr, skipna\u001b[38;5;241m=\u001b[39mskipna, convert_na_value\u001b[38;5;241m=\u001b[39m\u001b[38;5;28;01mFalse\u001b[39;00m\n\u001b[1;32m     98\u001b[0m     )\u001b[38;5;241m.\u001b[39mreshape(shape)\n\u001b[1;32m    100\u001b[0m \u001b[38;5;28;01melif\u001b[39;00m np\u001b[38;5;241m.\u001b[39missubdtype(arr\u001b[38;5;241m.\u001b[39mdtype, np\u001b[38;5;241m.\u001b[39mfloating) \u001b[38;5;129;01mand\u001b[39;00m dtype\u001b[38;5;241m.\u001b[39mkind \u001b[38;5;129;01min\u001b[39;00m \u001b[38;5;124m\"\u001b[39m\u001b[38;5;124miu\u001b[39m\u001b[38;5;124m\"\u001b[39m:\n\u001b[0;32m--> 101\u001b[0m     \u001b[38;5;28;01mreturn\u001b[39;00m \u001b[43m_astype_float_to_int_nansafe\u001b[49m\u001b[43m(\u001b[49m\u001b[43marr\u001b[49m\u001b[43m,\u001b[49m\u001b[43m \u001b[49m\u001b[43mdtype\u001b[49m\u001b[43m,\u001b[49m\u001b[43m \u001b[49m\u001b[43mcopy\u001b[49m\u001b[43m)\u001b[49m\n\u001b[1;32m    103\u001b[0m \u001b[38;5;28;01melif\u001b[39;00m arr\u001b[38;5;241m.\u001b[39mdtype \u001b[38;5;241m==\u001b[39m \u001b[38;5;28mobject\u001b[39m:\n\u001b[1;32m    104\u001b[0m     \u001b[38;5;66;03m# if we have a datetime/timedelta array of objects\u001b[39;00m\n\u001b[1;32m    105\u001b[0m     \u001b[38;5;66;03m# then coerce to datetime64[ns] and use DatetimeArray.astype\u001b[39;00m\n\u001b[1;32m    107\u001b[0m     \u001b[38;5;28;01mif\u001b[39;00m lib\u001b[38;5;241m.\u001b[39mis_np_dtype(dtype, \u001b[38;5;124m\"\u001b[39m\u001b[38;5;124mM\u001b[39m\u001b[38;5;124m\"\u001b[39m):\n",
      "File \u001b[0;32m~/bluerecording-dev/lib/python3.11/site-packages/pandas/core/dtypes/astype.py:145\u001b[0m, in \u001b[0;36m_astype_float_to_int_nansafe\u001b[0;34m(values, dtype, copy)\u001b[0m\n\u001b[1;32m    141\u001b[0m \u001b[38;5;250m\u001b[39m\u001b[38;5;124;03m\"\"\"\u001b[39;00m\n\u001b[1;32m    142\u001b[0m \u001b[38;5;124;03mastype with a check preventing converting NaN to an meaningless integer value.\u001b[39;00m\n\u001b[1;32m    143\u001b[0m \u001b[38;5;124;03m\"\"\"\u001b[39;00m\n\u001b[1;32m    144\u001b[0m \u001b[38;5;28;01mif\u001b[39;00m \u001b[38;5;129;01mnot\u001b[39;00m np\u001b[38;5;241m.\u001b[39misfinite(values)\u001b[38;5;241m.\u001b[39mall():\n\u001b[0;32m--> 145\u001b[0m     \u001b[38;5;28;01mraise\u001b[39;00m IntCastingNaNError(\n\u001b[1;32m    146\u001b[0m         \u001b[38;5;124m\"\u001b[39m\u001b[38;5;124mCannot convert non-finite values (NA or inf) to integer\u001b[39m\u001b[38;5;124m\"\u001b[39m\n\u001b[1;32m    147\u001b[0m     )\n\u001b[1;32m    148\u001b[0m \u001b[38;5;28;01mif\u001b[39;00m dtype\u001b[38;5;241m.\u001b[39mkind \u001b[38;5;241m==\u001b[39m \u001b[38;5;124m\"\u001b[39m\u001b[38;5;124mu\u001b[39m\u001b[38;5;124m\"\u001b[39m:\n\u001b[1;32m    149\u001b[0m     \u001b[38;5;66;03m# GH#45151\u001b[39;00m\n\u001b[1;32m    150\u001b[0m     \u001b[38;5;28;01mif\u001b[39;00m \u001b[38;5;129;01mnot\u001b[39;00m (values \u001b[38;5;241m>\u001b[39m\u001b[38;5;241m=\u001b[39m \u001b[38;5;241m0\u001b[39m)\u001b[38;5;241m.\u001b[39mall():\n",
      "\u001b[0;31mIntCastingNaNError\u001b[0m: Cannot convert non-finite values (NA or inf) to integer"
     ]
    }
   ],
   "source": [
    "region_centers = tst.nrn_df.groupby(\"region\")[[\"flat_x\", \"flat_y\"]].mean().astype(int).reset_index()\n",
    "display(region_centers)\n",
    "morph_lookup = tst.nrn_df.set_index([\"mtype\", \"region\", \"flat_x\", \"flat_y\"])[\"node_ids\"]\n",
    "\n",
    "tgt_mtype = \"L5_TPC:A\"\n",
    "\n",
    "\n",
    "picked_node_ids = {}\n",
    "for _, row in region_centers.iterrows():\n",
    "    morph_filtered = morph_lookup[tgt_mtype][row[\"region\"]]\n",
    "    D = morph_filtered.index.to_frame() - row[[\"flat_x\", \"flat_y\"]]\n",
    "    D = (D ** 2).sum(axis=1)\n",
    "    cands = morph_filtered.loc[D.loc[D == D.min()].index]\n",
    "    picked_node_ids[row[\"region\"]] = numpy.random.choice(cands.values)\n",
    "    \n",
    "display(picked_node_ids)"
   ]
  },
  {
   "cell_type": "code",
   "execution_count": 31,
   "metadata": {},
   "outputs": [],
   "source": [
    "def histmean(histogram):    \n",
    "\n",
    "    return np.sum(histogram.index*histogram.values) / histogram.sum()"
   ]
  },
  {
   "cell_type": "code",
   "execution_count": 41,
   "metadata": {},
   "outputs": [
    {
     "data": {
      "text/plain": [
       "array([0., 0., 0., 0., 0., 0., 0., 0., 0., 0., 0., 0., 0., 0., 0., 0., 0.,\n",
       "       0., 0., 0., 0., 0., 0., 0., 0., 0., 0., 0., 0., 0., 0., 0., 0., 0.,\n",
       "       0., 0., 0., 0., 0., 0., 0., 0., 0., 0., 0., 0., 0., 0., 0., 0., 0.,\n",
       "       0., 0., 0., 0., 0., 0., 0., 0., 0., 0., 0., 0., 0., 0., 0., 0., 0.,\n",
       "       0., 0., 0., 0., 0., 0., 0., 0., 0., 0., 0., 0., 0., 0., 0., 0., 0.,\n",
       "       0., 0., 0., 0., 0., 0., 0., 0., 0., 0., 0., 0., 0., 0., 0., 0., 0.,\n",
       "       0., 0., 0., 0., 0., 0., 0., 0., 0., 0., 0., 0., 0., 0., 0., 0., 0.,\n",
       "       0., 0., 0., 0., 0., 0., 0., 0., 0., 0., 0., 0., 0., 0., 0., 0., 0.,\n",
       "       0., 0., 0., 0., 0., 0., 0., 0., 0., 0., 0., 0., 0., 0., 0., 0., 0.,\n",
       "       0., 0., 0., 0., 0., 0., 0., 0., 0., 0., 0., 0., 0., 0., 0., 0., 0.,\n",
       "       0., 0., 0., 0., 0., 0., 0., 0., 0., 0., 0., 0., 0., 0., 0., 0., 0.,\n",
       "       0., 0., 0., 0., 0., 0., 0., 0., 0., 0., 0., 0., 0., 0., 0., 0., 0.,\n",
       "       0., 0., 0., 0., 0., 0., 0., 0., 0., 0., 0., 0., 0., 0., 0., 0., 0.,\n",
       "       0., 0., 0., 0., 0., 0., 0., 0., 0., 0., 0., 0., 0., 0., 0., 0., 0.,\n",
       "       0., 0., 0., 0., 0., 0., 0., 0., 0., 0., 0., 0., 0., 0., 0., 0., 0.,\n",
       "       0., 0., 0., 0., 0., 0., 0., 0., 0., 0., 0., 0., 0., 0., 0., 0., 0.,\n",
       "       0., 0., 0., 0., 0., 0., 0., 0., 0., 0., 0., 0., 0., 0., 0., 0., 0.,\n",
       "       0., 0., 0., 0., 0., 0., 0., 0., 0., 0., 0., 0., 0., 0., 0., 0., 0.,\n",
       "       0., 0., 0., 0., 0., 0., 0., 0., 0., 0., 0., 0., 0., 0., 0., 0., 0.,\n",
       "       0., 0., 0., 0., 0., 0., 0., 0., 0., 0., 0., 0., 0., 0., 0., 0., 0.,\n",
       "       0., 0., 0., 0., 0., 0., 0., 0., 0., 0., 0., 0., 0., 0., 0., 0., 0.,\n",
       "       0., 0., 0., 0., 0., 0., 0., 0., 0., 0., 0., 0., 0., 0., 0., 0., 0.,\n",
       "       0., 0., 0., 0., 0., 0., 0., 0., 0., 0., 0., 0., 0., 0., 0., 0., 0.,\n",
       "       0., 0., 0., 0., 0., 0., 0., 0., 0., 0., 0., 0., 0., 0., 0., 0., 0.,\n",
       "       0., 0., 0., 0., 0., 0., 0., 0., 0., 0., 0., 0., 0., 0., 0., 0., 0.,\n",
       "       0., 0., 0., 0., 0., 0., 0., 0., 0., 0., 0., 0., 0., 0., 0., 0., 0.,\n",
       "       0., 0., 0., 0., 0., 0., 0., 0., 0., 0., 0., 0., 0., 0., 0., 0., 0.,\n",
       "       0.])"
      ]
     },
     "execution_count": 41,
     "metadata": {},
     "output_type": "execute_result"
    }
   ],
   "source": [
    "scale"
   ]
  },
  {
   "cell_type": "markdown",
   "metadata": {},
   "source": [
    "The following cell produces Figure 4:"
   ]
  },
  {
   "cell_type": "code",
   "execution_count": 67,
   "metadata": {},
   "outputs": [
    {
     "data": {
      "application/vnd.jupyter.widget-view+json": {
       "model_id": "df957f2174c144349a86b9be5a94aa37",
       "version_major": 2,
       "version_minor": 0
      },
      "image/png": "[encoded data removed]",
      "text/html": [
       "\n",
       "            <div style=\"display: inline-block;\">\n",
       "                <div class=\"jupyter-widgets widget-label\" style=\"text-align: center;\">\n",
       "                    Figure\n",
       "                </div>\n",
       "                <img src='data:image/png;base64,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' width=400.0/>\n",
       "            </div>\n",
       "        "
      ],
      "text/plain": [
       "Canvas(toolbar=Toolbar(toolitems=[('Home', 'Reset original view', 'home', 'home'), ('Back', 'Back to previous …"
      ]
     },
     "metadata": {},
     "output_type": "display_data"
    }
   ],
   "source": [
    "from matplotlib.gridspec import GridSpec\n",
    "\n",
    "\n",
    "import types\n",
    "\n",
    "plt.rcParams['axes.formatter.useoffset'] = False\n",
    "\n",
    "fig = plt.figure(figsize=(4,4))\n",
    "\n",
    "ax1 = fig.add_subplot(1,1,1,projection='3d')\n",
    "\n",
    "#####\n",
    "# Iterates through the node ids of the neurons whose positions have been loaded\n",
    "# Plots the positions in 3d, colored according to the compartment weights for EEG\n",
    "for i in ids[:100]:\n",
    "    \n",
    "    if i in FLshort:\n",
    "        region = FLshort\n",
    "        marker = 'o'\n",
    "        scaleFac = scaleFacFl\n",
    "        color = 'C0'\n",
    "    elif i in HLshort:\n",
    "        region = HLshort\n",
    "        marker = 'v'\n",
    "        scaleFac = scaleFacHl\n",
    "        color='C1'\n",
    "    elif i in ULPshort:\n",
    "        region = ULPshort\n",
    "        marker ='s'\n",
    "        scaleFac = scaleFacULp\n",
    "        color='C2'\n",
    "        \n",
    "    index = np.where(region==i)[0][0]\n",
    "    \n",
    "    scale = scaleFac[index]\n",
    "    \n",
    "    p = getNeuronSegmentMidpts(allPositions[i]).values\n",
    "        \n",
    "    im = ax1.scatter(p[0],p[1],p[2],marker=marker,c=scale,s=.5)#,vmin=0,vmax=5e-9)\n",
    "    \n",
    "ax1.view_init(elev=9., azim=-85)\n",
    "\n",
    "# Plots locations of electrodes\n",
    "ax1.scatter(eeg[0],eeg[1],eeg[2],c='r',s=20)\n",
    "ax1.scatter(returnElectrode[0],returnElectrode[1],returnElectrode[2],c='r',s=20) \n",
    "\n",
    "ax1.set_xlim((2801.1161576783625, 5500))\n",
    "ax1.set_ylim((0, 1883.8635116069354))\n",
    "ax1.set_zlim((-4332.110601382281, 914.4962633882312))\n",
    "\n",
    "\n",
    "ax1.axis('off')\n",
    "\n",
    "cb = plt.colorbar(im,fraction=0.25,location='bottom')\n",
    "\n",
    "cb.set_label(label='Compartment weights (V/nA)',labelpad=20)\n",
    "cb.set_ticks([])\n",
    "#####\n",
    "\n",
    "plt.savefig('figures/neurons.png',dpi=600)"
   ]
  },
  {
   "cell_type": "code",
   "execution_count": null,
   "metadata": {},
   "outputs": [],
   "source": []
  }
 ],
 "metadata": {
  "kernelspec": {
   "display_name": "Python 3 (ipykernel)",
   "language": "python",
   "name": "python3"
  },
  "language_info": {
   "codemirror_mode": {
    "name": "ipython",
    "version": 3
   },
   "file_extension": ".py",
   "mimetype": "text/x-python",
   "name": "python",
   "nbconvert_exporter": "python",
   "pygments_lexer": "ipython3",
   "version": "3.11.6"
  }
 },
 "nbformat": 4,
 "nbformat_minor": 4
}
