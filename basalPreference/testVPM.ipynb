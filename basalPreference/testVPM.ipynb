{
 "cells": [
  {
   "cell_type": "code",
   "execution_count": 1,
   "id": "8a8c8f40-1ea3-4fd4-a178-54ce5d53a8de",
   "metadata": {},
   "outputs": [],
   "source": [
    "import numpy as np\n",
    "import pandas as pd"
   ]
  },
  {
   "cell_type": "code",
   "execution_count": 2,
   "id": "86ae0e9f-b700-4b0e-8a3e-32557f0e740a",
   "metadata": {},
   "outputs": [],
   "source": [
    "csv = pd.read_csv('/gpfs/bbp.cscs.ch/project/proj83/circuits/Bio_M/20200805/projections/2021_02_12/fibers/vpm_flatmap_based/s1fl.csv')"
   ]
  },
  {
   "cell_type": "code",
   "execution_count": 3,
   "id": "021cdb3f-c36a-4761-ba03-199827f804ae",
   "metadata": {},
   "outputs": [
    {
     "data": {
      "text/html": [
       "<div>\n",
       "<style scoped>\n",
       "    .dataframe tbody tr th:only-of-type {\n",
       "        vertical-align: middle;\n",
       "    }\n",
       "\n",
       "    .dataframe tbody tr th {\n",
       "        vertical-align: top;\n",
       "    }\n",
       "\n",
       "    .dataframe thead th {\n",
       "        text-align: right;\n",
       "    }\n",
       "</style>\n",
       "<table border=\"1\" class=\"dataframe\">\n",
       "  <thead>\n",
       "    <tr style=\"text-align: right;\">\n",
       "      <th></th>\n",
       "      <th>x</th>\n",
       "      <th>y</th>\n",
       "      <th>z</th>\n",
       "      <th>u</th>\n",
       "      <th>v</th>\n",
       "      <th>w</th>\n",
       "    </tr>\n",
       "  </thead>\n",
       "  <tbody>\n",
       "    <tr>\n",
       "      <th>0</th>\n",
       "      <td>3170.040975</td>\n",
       "      <td>-718.923467</td>\n",
       "      <td>-3404.477560</td>\n",
       "      <td>0.558549</td>\n",
       "      <td>-0.167255</td>\n",
       "      <td>0.812434</td>\n",
       "    </tr>\n",
       "    <tr>\n",
       "      <th>1</th>\n",
       "      <td>2423.970317</td>\n",
       "      <td>-99.791927</td>\n",
       "      <td>-2942.283865</td>\n",
       "      <td>0.376158</td>\n",
       "      <td>-0.064978</td>\n",
       "      <td>0.924274</td>\n",
       "    </tr>\n",
       "    <tr>\n",
       "      <th>2</th>\n",
       "      <td>2740.991597</td>\n",
       "      <td>1425.401486</td>\n",
       "      <td>-2990.775382</td>\n",
       "      <td>0.366253</td>\n",
       "      <td>-0.165757</td>\n",
       "      <td>0.915633</td>\n",
       "    </tr>\n",
       "    <tr>\n",
       "      <th>3</th>\n",
       "      <td>2719.696045</td>\n",
       "      <td>-987.083225</td>\n",
       "      <td>-3188.524790</td>\n",
       "      <td>0.426951</td>\n",
       "      <td>-0.125271</td>\n",
       "      <td>0.895556</td>\n",
       "    </tr>\n",
       "    <tr>\n",
       "      <th>4</th>\n",
       "      <td>3427.262087</td>\n",
       "      <td>-55.977742</td>\n",
       "      <td>-3412.224571</td>\n",
       "      <td>0.596150</td>\n",
       "      <td>-0.084484</td>\n",
       "      <td>0.798416</td>\n",
       "    </tr>\n",
       "    <tr>\n",
       "      <th>...</th>\n",
       "      <td>...</td>\n",
       "      <td>...</td>\n",
       "      <td>...</td>\n",
       "      <td>...</td>\n",
       "      <td>...</td>\n",
       "      <td>...</td>\n",
       "    </tr>\n",
       "    <tr>\n",
       "      <th>25556</th>\n",
       "      <td>2539.659881</td>\n",
       "      <td>-1338.425462</td>\n",
       "      <td>-3147.724973</td>\n",
       "      <td>0.353557</td>\n",
       "      <td>-0.078610</td>\n",
       "      <td>0.932104</td>\n",
       "    </tr>\n",
       "    <tr>\n",
       "      <th>25557</th>\n",
       "      <td>2376.843734</td>\n",
       "      <td>-923.032287</td>\n",
       "      <td>-3038.241504</td>\n",
       "      <td>0.366927</td>\n",
       "      <td>-0.119376</td>\n",
       "      <td>0.922559</td>\n",
       "    </tr>\n",
       "    <tr>\n",
       "      <th>25558</th>\n",
       "      <td>2364.289881</td>\n",
       "      <td>-1625.119212</td>\n",
       "      <td>-3082.502473</td>\n",
       "      <td>0.353557</td>\n",
       "      <td>-0.078610</td>\n",
       "      <td>0.932104</td>\n",
       "    </tr>\n",
       "    <tr>\n",
       "      <th>25559</th>\n",
       "      <td>2788.798053</td>\n",
       "      <td>-1650.214003</td>\n",
       "      <td>-3247.571612</td>\n",
       "      <td>0.505501</td>\n",
       "      <td>-0.064285</td>\n",
       "      <td>0.860428</td>\n",
       "    </tr>\n",
       "    <tr>\n",
       "      <th>25560</th>\n",
       "      <td>3269.878627</td>\n",
       "      <td>543.366403</td>\n",
       "      <td>-3262.515379</td>\n",
       "      <td>0.528909</td>\n",
       "      <td>-0.019314</td>\n",
       "      <td>0.848459</td>\n",
       "    </tr>\n",
       "  </tbody>\n",
       "</table>\n",
       "<p>25561 rows × 6 columns</p>\n",
       "</div>"
      ],
      "text/plain": [
       "                 x            y            z         u         v         w\n",
       "0      3170.040975  -718.923467 -3404.477560  0.558549 -0.167255  0.812434\n",
       "1      2423.970317   -99.791927 -2942.283865  0.376158 -0.064978  0.924274\n",
       "2      2740.991597  1425.401486 -2990.775382  0.366253 -0.165757  0.915633\n",
       "3      2719.696045  -987.083225 -3188.524790  0.426951 -0.125271  0.895556\n",
       "4      3427.262087   -55.977742 -3412.224571  0.596150 -0.084484  0.798416\n",
       "...            ...          ...          ...       ...       ...       ...\n",
       "25556  2539.659881 -1338.425462 -3147.724973  0.353557 -0.078610  0.932104\n",
       "25557  2376.843734  -923.032287 -3038.241504  0.366927 -0.119376  0.922559\n",
       "25558  2364.289881 -1625.119212 -3082.502473  0.353557 -0.078610  0.932104\n",
       "25559  2788.798053 -1650.214003 -3247.571612  0.505501 -0.064285  0.860428\n",
       "25560  3269.878627   543.366403 -3262.515379  0.528909 -0.019314  0.848459\n",
       "\n",
       "[25561 rows x 6 columns]"
      ]
     },
     "execution_count": 3,
     "metadata": {},
     "output_type": "execute_result"
    }
   ],
   "source": [
    "csv"
   ]
  },
  {
   "cell_type": "code",
   "execution_count": 4,
   "id": "d1b7b3f7-b1f8-4380-bdf4-d5ec596e374e",
   "metadata": {},
   "outputs": [],
   "source": [
    "nodes = csv.index"
   ]
  },
  {
   "cell_type": "code",
   "execution_count": 15,
   "id": "bdee9fba-8cf4-49fd-886a-f102d7ad8b15",
   "metadata": {},
   "outputs": [],
   "source": [
    "nodes = np.array(nodes)"
   ]
  },
  {
   "cell_type": "code",
   "execution_count": 26,
   "id": "45bc2473-fcd7-499f-a28f-bce75b3dd02f",
   "metadata": {},
   "outputs": [],
   "source": [
    "tsv = pd.read_csv('/gpfs/bbp.cscs.ch/data/scratch/proj83/home/bolanos/circuits/Bio_M/20200805/virtual_fibers_gen/original_run/allfibers_VPM_gid_fx_fy.tsv',delimiter='\\t',index_col=0,header=None)\n"
   ]
  },
  {
   "cell_type": "code",
   "execution_count": 27,
   "id": "696deb88-df1f-47c1-bda3-5d4078f96882",
   "metadata": {},
   "outputs": [],
   "source": [
    "tsvNodes = np.array(tsv.index)"
   ]
  },
  {
   "cell_type": "code",
   "execution_count": 28,
   "id": "65525424-e05d-4cd9-adb6-d8df0ff992e2",
   "metadata": {},
   "outputs": [
    {
     "data": {
      "text/plain": [
       "array([ True,  True,  True, ..., False, False, False])"
      ]
     },
     "execution_count": 28,
     "metadata": {},
     "output_type": "execute_result"
    }
   ],
   "source": [
    "np.isin(nodes,tsvNodes-5000000)"
   ]
  },
  {
   "cell_type": "code",
   "execution_count": 52,
   "id": "c0eb303d-bdba-4f28-8289-865699ad10a9",
   "metadata": {},
   "outputs": [
    {
     "data": {
      "text/plain": [
       "0.0"
      ]
     },
     "execution_count": 52,
     "metadata": {},
     "output_type": "execute_result"
    }
   ],
   "source": [
    "len(np.where(~np.isin(nodes,tsvNodes-5060000))[0])/len(nodes)"
   ]
  },
  {
   "cell_type": "code",
   "execution_count": 30,
   "id": "c08931cc-3d6d-48cc-abe4-f76920660e88",
   "metadata": {},
   "outputs": [
    {
     "data": {
      "text/html": [
       "<div>\n",
       "<style scoped>\n",
       "    .dataframe tbody tr th:only-of-type {\n",
       "        vertical-align: middle;\n",
       "    }\n",
       "\n",
       "    .dataframe tbody tr th {\n",
       "        vertical-align: top;\n",
       "    }\n",
       "\n",
       "    .dataframe thead th {\n",
       "        text-align: right;\n",
       "    }\n",
       "</style>\n",
       "<table border=\"1\" class=\"dataframe\">\n",
       "  <thead>\n",
       "    <tr style=\"text-align: right;\">\n",
       "      <th></th>\n",
       "      <th>1</th>\n",
       "      <th>2</th>\n",
       "    </tr>\n",
       "    <tr>\n",
       "      <th>0</th>\n",
       "      <th></th>\n",
       "      <th></th>\n",
       "    </tr>\n",
       "  </thead>\n",
       "  <tbody>\n",
       "    <tr>\n",
       "      <th>5000000</th>\n",
       "      <td>0.470502</td>\n",
       "      <td>0.055593</td>\n",
       "    </tr>\n",
       "    <tr>\n",
       "      <th>5000001</th>\n",
       "      <td>0.417715</td>\n",
       "      <td>0.144085</td>\n",
       "    </tr>\n",
       "    <tr>\n",
       "      <th>5000002</th>\n",
       "      <td>0.151167</td>\n",
       "      <td>0.780593</td>\n",
       "    </tr>\n",
       "    <tr>\n",
       "      <th>5000003</th>\n",
       "      <td>0.469923</td>\n",
       "      <td>0.045310</td>\n",
       "    </tr>\n",
       "    <tr>\n",
       "      <th>5000004</th>\n",
       "      <td>0.482959</td>\n",
       "      <td>0.088045</td>\n",
       "    </tr>\n",
       "    <tr>\n",
       "      <th>...</th>\n",
       "      <td>...</td>\n",
       "      <td>...</td>\n",
       "    </tr>\n",
       "    <tr>\n",
       "      <th>5239696</th>\n",
       "      <td>0.818343</td>\n",
       "      <td>0.712053</td>\n",
       "    </tr>\n",
       "    <tr>\n",
       "      <th>5239697</th>\n",
       "      <td>0.894107</td>\n",
       "      <td>0.460037</td>\n",
       "    </tr>\n",
       "    <tr>\n",
       "      <th>5239698</th>\n",
       "      <td>0.529758</td>\n",
       "      <td>0.571618</td>\n",
       "    </tr>\n",
       "    <tr>\n",
       "      <th>5239699</th>\n",
       "      <td>0.419869</td>\n",
       "      <td>0.659637</td>\n",
       "    </tr>\n",
       "    <tr>\n",
       "      <th>5239700</th>\n",
       "      <td>0.934593</td>\n",
       "      <td>0.350080</td>\n",
       "    </tr>\n",
       "  </tbody>\n",
       "</table>\n",
       "<p>100000 rows × 2 columns</p>\n",
       "</div>"
      ],
      "text/plain": [
       "                1         2\n",
       "0                          \n",
       "5000000  0.470502  0.055593\n",
       "5000001  0.417715  0.144085\n",
       "5000002  0.151167  0.780593\n",
       "5000003  0.469923  0.045310\n",
       "5000004  0.482959  0.088045\n",
       "...           ...       ...\n",
       "5239696  0.818343  0.712053\n",
       "5239697  0.894107  0.460037\n",
       "5239698  0.529758  0.571618\n",
       "5239699  0.419869  0.659637\n",
       "5239700  0.934593  0.350080\n",
       "\n",
       "[100000 rows x 2 columns]"
      ]
     },
     "execution_count": 30,
     "metadata": {},
     "output_type": "execute_result"
    }
   ],
   "source": [
    "tsv"
   ]
  },
  {
   "cell_type": "code",
   "execution_count": null,
   "id": "a1593310-313c-4ef7-88ab-fcab487155df",
   "metadata": {},
   "outputs": [],
   "source": []
  }
 ],
 "metadata": {
  "kernelspec": {
   "display_name": "Python 3 (ipykernel)",
   "language": "python",
   "name": "python3"
  },
  "language_info": {
   "codemirror_mode": {
    "name": "ipython",
    "version": 3
   },
   "file_extension": ".py",
   "mimetype": "text/x-python",
   "name": "python",
   "nbconvert_exporter": "python",
   "pygments_lexer": "ipython3",
   "version": "3.11.6"
  }
 },
 "nbformat": 4,
 "nbformat_minor": 5
}
