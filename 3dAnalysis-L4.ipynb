{
 "cells": [
  {
   "cell_type": "code",
   "execution_count": 1,
   "metadata": {},
   "outputs": [],
   "source": [
    "# SPDX-License-Identifier: GPL-3.0-or-later"
   ]
  },
  {
   "cell_type": "code",
   "execution_count": 2,
   "metadata": {},
   "outputs": [],
   "source": [
    "%matplotlib widget"
   ]
  },
  {
   "cell_type": "code",
   "execution_count": 3,
   "metadata": {},
   "outputs": [],
   "source": [
    "import numpy as np\n",
    "import matplotlib.pyplot as plt\n",
    "import pandas as pd\n",
    "import os\n",
    "from scipy.stats import linregress\n",
    "import matplotlib\n",
    "font = {'size'   : 12}\n",
    "\n",
    "matplotlib.rc('font', **font)\n",
    "import conntility\n"
   ]
  },
  {
   "cell_type": "markdown",
   "metadata": {},
   "source": [
    "# Samples cells from exemplary regions and gets scaling factors"
   ]
  },
  {
   "cell_type": "code",
   "execution_count": 4,
   "metadata": {},
   "outputs": [],
   "source": [
    "import bluepysnap as bp\n",
    "s = bp.Simulation('/gpfs/bbp.cscs.ch/project/proj83/scratch/home/tharayil/BlueRecording/examples/whiskerFlick/data/simulation/simulation_config.json')\n",
    "circuit = s.circuit"
   ]
  },
  {
   "cell_type": "code",
   "execution_count": 5,
   "metadata": {},
   "outputs": [],
   "source": [
    "nodes = circuit.nodes"
   ]
  },
  {
   "cell_type": "code",
   "execution_count": 6,
   "metadata": {},
   "outputs": [],
   "source": [
    "# Loads a generator that produces the cell types for all cells in forelimb, hindlimb, and upper lip regions\n",
    "\n",
    "nFl = nodes.get('hex_O1',properties=['mtype'])\n"
   ]
  },
  {
   "cell_type": "code",
   "execution_count": 7,
   "metadata": {},
   "outputs": [],
   "source": [
    "# Loads node ids for Layer 5 TPC:A cells from each of the above regions\n",
    "\n",
    "Fl = next(nFl)[1]\n",
    "#Fl = np.array(list(Fl[Fl['mtype']=='L4_TPC'].index))[:,1].astype(int)\n",
    "Fl = np.array(list(Fl[Fl['mtype'].isin(['L4_TPC','L4_UPC'])].index))[:,1].astype(int)\n",
    "\n"
   ]
  },
  {
   "cell_type": "code",
   "execution_count": 8,
   "metadata": {},
   "outputs": [
    {
     "data": {
      "text/plain": [
       "29117"
      ]
     },
     "execution_count": 8,
     "metadata": {},
     "output_type": "execute_result"
    }
   ],
   "source": [
    "len(Fl)"
   ]
  },
  {
   "cell_type": "code",
   "execution_count": 9,
   "metadata": {},
   "outputs": [],
   "source": [
    "import h5py"
   ]
  },
  {
   "cell_type": "code",
   "execution_count": 10,
   "metadata": {},
   "outputs": [],
   "source": [
    "# Loads the weights file\n",
    "\n",
    "coeffsFile = \"/gpfs/bbp.cscs.ch/project/proj83/scratch/home/tharayil/BlueRecording/examples/whiskerFlick/electrodeFile/coeffs_eeg.h5\"\n",
    "\n",
    "coeffs = h5py.File(coeffsFile)"
   ]
  },
  {
   "cell_type": "code",
   "execution_count": 11,
   "metadata": {},
   "outputs": [],
   "source": [
    "# Node ids from weights file\n",
    "allNodeIds = coeffs['S1nonbarrel_neurons']['node_ids']"
   ]
  },
  {
   "cell_type": "code",
   "execution_count": 12,
   "metadata": {},
   "outputs": [],
   "source": [
    "# Finds indices in the weights file of nodes in the selected regions\n",
    "\n",
    "flIndex = np.where(np.isin(allNodeIds[:],Fl))[0]\n",
    "\n"
   ]
  },
  {
   "cell_type": "code",
   "execution_count": 13,
   "metadata": {},
   "outputs": [],
   "source": [
    "np.random.seed(1776)\n",
    "\n",
    "# Samples nodes from the selected regions\n",
    "\n",
    "flIndex = np.sort(np.random.choice(flIndex,1000,replace=False))\n",
    "\n",
    "\n",
    "FLshort = allNodeIds[:][flIndex]\n",
    "\n"
   ]
  },
  {
   "cell_type": "code",
   "execution_count": 14,
   "metadata": {},
   "outputs": [],
   "source": [
    "# Finds offsets for the compartment weights for the selected nodes\n",
    "\n",
    "flOffsets = [coeffs['S1nonbarrel_neurons']['offsets'][:][flIndex],coeffs['S1nonbarrel_neurons']['offsets'][:][flIndex+1]]\n",
    "\n"
   ]
  },
  {
   "cell_type": "code",
   "execution_count": 15,
   "metadata": {},
   "outputs": [],
   "source": [
    "# Gets compartment weights for the selected nodes (shifted such that the minimum weight for each neuron is 0)\n",
    "\n",
    "scaleFacFl = []\n",
    "ranges = []\n",
    "\n",
    "\n",
    "for i in range(len(flOffsets[0])):\n",
    "    \n",
    "    sfl = coeffs['electrodes']['S1nonbarrel_neurons']['scaling_factors'][flOffsets[0][i]:flOffsets[1][i]][:,0]\n",
    "    sfl -= np.min(sfl)\n",
    "\n",
    "    scaleFacFl.append( sfl )\n",
    "    \n",
    "    ranges.append(np.percentile(sfl,90) - np.percentile(sfl,10))\n"
   ]
  },
  {
   "cell_type": "code",
   "execution_count": 16,
   "metadata": {},
   "outputs": [],
   "source": [
    "r = np.mean(ranges)"
   ]
  },
  {
   "cell_type": "code",
   "execution_count": 17,
   "metadata": {},
   "outputs": [
    {
     "data": {
      "text/plain": [
       "1.5233842072239206e-09"
      ]
     },
     "execution_count": 17,
     "metadata": {},
     "output_type": "execute_result"
    }
   ],
   "source": [
    "r"
   ]
  },
  {
   "cell_type": "markdown",
   "metadata": {},
   "source": [
    "# Loads 3d positions"
   ]
  },
  {
   "cell_type": "code",
   "execution_count": 25,
   "metadata": {},
   "outputs": [],
   "source": [
    "path_to_positions = \"compartment/c6374a94-59b9-468d-8958-f7c8f876e562/0/positions/\"\n"
   ]
  },
  {
   "cell_type": "code",
   "execution_count": 26,
   "metadata": {},
   "outputs": [],
   "source": [
    "# Loads positions for a subset of the selected nodes\n",
    "\n",
    "allIds = [FLshort]\n",
    "\n",
    "allIds = [s for item in allIds for s in item]\n",
    "\n",
    "allIds = np.array(allIds)\n",
    "\n",
    "import os\n",
    "\n",
    "i = 0\n",
    "\n",
    "for subfolder in os.listdir(path_to_positions):\n",
    "    for file in os.listdir(path_to_positions+subfolder):\n",
    "        \n",
    "        if i > 10:\n",
    "            break\n",
    "        \n",
    "        positions = pd.read_pickle(path_to_positions+subfolder+'/'+file)\n",
    "        \n",
    "        columns = np.array(list(positions.columns))[:,0]\n",
    "        \n",
    "        indices = np.where(np.isin(allIds,columns))[0]\n",
    "        \n",
    "        if len(indices)==0:\n",
    "            continue\n",
    "        \n",
    "        idsInFile = allIds[indices]\n",
    "\n",
    "        positions = positions[idsInFile]\n",
    "        \n",
    "        if i == 0:\n",
    "            allPositions = positions\n",
    "        else:\n",
    "            allPositions = pd.concat((allPositions,positions),axis=1)\n",
    "            \n",
    "        i += 1\n",
    "        "
   ]
  },
  {
   "cell_type": "code",
   "execution_count": 27,
   "metadata": {},
   "outputs": [],
   "source": [
    "ids = np.unique(np.array(list(allPositions.columns))[:,0])"
   ]
  },
  {
   "cell_type": "code",
   "execution_count": 28,
   "metadata": {},
   "outputs": [],
   "source": [
    "def getNeuronSegmentMidpts(position):\n",
    "    '''\n",
    "    Gets midpoints for a single neuron\n",
    "    '''\n",
    "\n",
    "    \n",
    "    secIds = np.array(list(position.columns))\n",
    "    uniqueSecIds = np.unique(secIds)\n",
    "\n",
    "    for sId in uniqueSecIds: # Iterates through sections\n",
    "\n",
    "        pos = position.iloc[:,np.where(sId == secIds)[0]]\n",
    "\n",
    "        if sId == 0: # Implies that section is a soma, so we just take the position from the file\n",
    "\n",
    "            newPos = pos\n",
    " \n",
    "        elif np.shape(pos.values)[-1] == 1: # If there is only one point in the section, we just take the value\n",
    "            newPos = pd.concat((newPos,pos),axis=1)\n",
    "\n",
    "        else: # We take the midpoints of the values in the file, which are the endpoints of the segments\n",
    "            pos = (pos.iloc[:,:-1]+pos.iloc[:,1:])/2\n",
    "\n",
    "            newPos = pd.concat((newPos,pos),axis=1)\n",
    "\n",
    "    return newPos"
   ]
  },
  {
   "cell_type": "code",
   "execution_count": 29,
   "metadata": {},
   "outputs": [],
   "source": [
    "# Spatial positions of the electrodes\n",
    "\n",
    "# ecog = np.array([3996,-777,-308.95])\n",
    "eeg = np.array([3996,-777,2423.97])\n",
    "returnElectrode = np.array([2677,851,2947.32])\n",
    "# lfp = np.array([3996,-777,-1308.95])"
   ]
  },
  {
   "cell_type": "code",
   "execution_count": 30,
   "metadata": {},
   "outputs": [],
   "source": [
    "import numpy\n",
    "import pandas\n",
    "import h5py\n",
    "import os\n",
    "\n",
    "import neurom\n",
    "import conntility\n",
    "import bluepysnap as bluepy\n",
    "\n",
    "from scipy import interpolate\n",
    "from matplotlib import pyplot as plt\n",
    "\n",
    "fn_electrodes = \"compartment/c6374a94-59b9-468d-8958-f7c8f876e562/0/coeffs_eeg.h5\"\n",
    "fn_sim = 'compartment/c6374a94-59b9-468d-8958-f7c8f876e562/0/simulation_config.json'\n",
    "neuron_pop_str = \"S1nonbarrel_neurons\"\n",
    "\n",
    "\n",
    "class ElectrodeReader(object):\n",
    "    def __init__(self, fn_electrodes, fn_sim, neuron_pop_str):\n",
    "        self.sim = bluepy.Simulation(fn_sim)\n",
    "        self.circ = self.sim.circuit\n",
    "        self.elec_h5 = h5py.File(fn_electrodes, \"r\")\n",
    "        self.pop = neuron_pop_str\n",
    "        self.e_df = self._read_electrode_metadata()\n",
    "        self.nrn_df = self._read_neuron_dataframe()\n",
    "        rep_fn = os.path.join(self.sim.config[\"output\"][\"output_dir\"],\n",
    "                              self.sim.reports[\"compartment\"].config[\"file_name\"] + \".h5\")\n",
    "        self.rep = h5py.File(rep_fn, \"r\")\n",
    "\n",
    "        \n",
    "    def _read_electrode_metadata(self):\n",
    "        grp = self.elec_h5[\"electrodes\"]\n",
    "\n",
    "        populations = list(self.elec_h5.keys())\n",
    "        populations.pop(populations.index(\"electrodes\"))\n",
    "        assert self.pop in populations\n",
    "\n",
    "        electrodes = [int(_k) for _k in grp.keys() if _k not in populations]\n",
    "        props = [\"layer\", \"position\", \"region\", \"type\"]\n",
    "\n",
    "        electrode_series = []\n",
    "        for electrode_id in electrodes:\n",
    "            e = pandas.Series(dict([(_prop, grp[str(electrode_id)][_prop][()])\n",
    "                                     for _prop in props]))\n",
    "            electrode_series.append(e)\n",
    "\n",
    "        e_df = pandas.concat(electrode_series, axis=1, keys=electrodes).transpose()\n",
    "        return e_df\n",
    "    \n",
    "    def _read_neuron_dataframe(self):\n",
    "        props = [\"mtype\", \"morphology\", \"layer\", \"region\", \"x\", \"y\", \"z\", \"flat_x\", \"flat_y\"]\n",
    "        nrn = conntility.circuit_models.neuron_groups.load_neurons(self.circ, props,\n",
    "                                                           base_target=self.sim.config[\"node_set\"],\n",
    "                                                           node_population=self.pop)\n",
    "        return nrn\n",
    "    \n",
    "    def morph_dir(self, morph_format=\"h5v1\"):\n",
    "        nodes = self.circ.config[\"networks\"][\"nodes\"][0]\n",
    "        return nodes[\"populations\"][self.pop][\"alternate_morphologies\"][morph_format]\n",
    "    \n",
    "    def mapping_sec_ids(self, node_id):\n",
    "        rep_grp = self.rep[\"report\"][self.pop][\"mapping\"]\n",
    "        j = numpy.nonzero(rep_grp[\"node_ids\"][:] == node_id)[0][0]\n",
    "        idx = rep_grp[\"index_pointers\"][j:j+2]\n",
    "\n",
    "        e_ids = rep_grp[\"element_ids\"][idx[0]:idx[1]]\n",
    "        return e_ids\n",
    "    \n",
    "    def electrode_weights(self, node_id):\n",
    "        node_ids = self.elec_h5[self.pop][\"node_ids\"][:]\n",
    "        assert node_id in node_ids\n",
    "        i = numpy.nonzero(node_ids == node_id)[0][0]\n",
    "        idx = self.elec_h5[self.pop][\"offsets\"][i:(i+2)]\n",
    "        \n",
    "        factors = self.elec_h5[\"electrodes\"][self.pop][\"scaling_factors\"][idx[0]:idx[1]]\n",
    "\n",
    "        factors -= factors.min(axis=0)\n",
    "        \n",
    "        \n",
    "        e_ids = self.mapping_sec_ids(node_id)\n",
    "        factor_df = pandas.DataFrame(factors, index=pandas.Index(e_ids.astype(int) - 1, name=\"sec_id\"))\n",
    "        return factor_df\n",
    "    \n",
    "    def morphology(self, node_id):\n",
    "        morph_fn = os.path.join(\n",
    "            self.morph_dir(),\n",
    "            self.nrn_df.set_index(\"node_ids\")[\"morphology\"][node_id] + \".h5\"\n",
    "        )\n",
    "        return neurom.load_morphology(morph_fn)\n",
    "    \n",
    "    def neuron(self, node_id, electrode_id):\n",
    "        return ElectrodeHelper(self.electrode_weights(node_id)[electrode_id],\n",
    "                               self.morphology(node_id))\n",
    "\n",
    "    \n",
    "class ElectrodeHelper(object):\n",
    "    def __init__(self, weights, morphology):\n",
    "        self.weights = weights\n",
    "        self.morph = morphology\n",
    "        \n",
    "    @property\n",
    "    def sec_types(self):\n",
    "        data = [[_sec.id, int(_sec.type)] for _sec in self.morph.sections]\n",
    "        sec_type = pandas.DataFrame(data, columns=[\"sec_id\", \"sec_type\"]).set_index(\"sec_id\")[\"sec_type\"]\n",
    "        sec_type[-1] = 1 # soma\n",
    "        sec_type[numpy.max(sec_type.index) + 1] = 5 # invalid\n",
    "        return sec_type\n",
    "    \n",
    "    def mean(self):\n",
    "        return self.weights.mean()\n",
    "    \n",
    "    def means_for_types(self):\n",
    "        sec_type = self.sec_types\n",
    "        tmp_df = pandas.Series(self.weights.values, name=\"weights\",\n",
    "                              index=pandas.Index(sec_type[self.weights.index].values, name=\"sec_type\"))\n",
    "        return tmp_df.groupby(\"sec_type\").mean()\n",
    "    \n",
    "    def hist_for_types(self, nbins=31):\n",
    "        bins = numpy.linspace(self.weights.min(), self.weights.max() + 1E-12, nbins+1)\n",
    "        sec_type = self.sec_types\n",
    "        tmp_df = pandas.Series(self.weights.values, name=\"weights\",\n",
    "                              index=pandas.Index(sec_type[self.weights.index].values, name=\"sec_type\"))\n",
    "        def hist_series(w):\n",
    "            bin_centers = 0.5 * (bins[:-1] + bins[1:])\n",
    "            return pandas.Series(\n",
    "                numpy.histogram(w, bins=bins)[0], name=\"count\",\n",
    "                index=pandas.Index(bin_centers, name=\"weight\")\n",
    "            )\n",
    "        return tmp_df.groupby(\"sec_type\").apply(hist_series).unstack(\"weight\")\n",
    "    \n",
    "    def plot(self, ax=None):\n",
    "        if ax is None:\n",
    "            fig = plt.figure(figsize=(3, 7))\n",
    "            ax = fig.gca()\n",
    "        \n",
    "        f_norm = (self.weights - self.weights.min()) / (self.weights.max() - self.weights.min())\n",
    "        morph = self.morph\n",
    "\n",
    "        # Soma\n",
    "        _c = f_norm[-1]\n",
    "        #plt.plot(0, 0, marker='o', color=[1.0 - _c, _c, 0])\n",
    "\n",
    "        for sec in morph.sections:\n",
    "            if sec.id not in f_norm:\n",
    "                continue\n",
    "            l = numpy.linalg.norm(numpy.diff(sec.points, axis=0)[:, :3], axis=1)\n",
    "            L = numpy.sum(l)\n",
    "            midpoints = 0.5 * (numpy.hstack([0, numpy.cumsum(l[:-1])]) + numpy.cumsum(l))\n",
    "\n",
    "            this_diff = f_norm[sec.id]\n",
    "            if isinstance(this_diff, float):\n",
    "                this_diff = numpy.array([this_diff])\n",
    "            else:\n",
    "                this_diff = this_diff.values\n",
    "\n",
    "            x = numpy.linspace(0, L, len(this_diff) + 2)[1:-1]\n",
    "            c = numpy.interp(midpoints, x, this_diff, left=this_diff[0],right=this_diff[-1])\n",
    "\n",
    "            for p_fr, p_to, _c in zip(sec.points[:-1], sec.points[1:], c):\n",
    "                ax.plot([p_fr[0], p_to[0]], [p_fr[1], p_to[1]],\n",
    "                        color=[1.0 - _c, _c, 0])\n",
    "\n",
    "        ax.set_aspect(\"equal\")\n",
    "        ax.set_frame_on(False)\n",
    "    \n",
    "    \n",
    "tst = ElectrodeReader(fn_electrodes, fn_sim, neuron_pop_str)"
   ]
  },
  {
   "cell_type": "markdown",
   "metadata": {},
   "source": [
    "The following cell produces Figure 4:"
   ]
  },
  {
   "cell_type": "code",
   "execution_count": 32,
   "metadata": {},
   "outputs": [
    {
     "data": {
      "application/vnd.jupyter.widget-view+json": {
       "model_id": "610813d50f5c4503a9ee06bda3afc167",
       "version_major": 2,
       "version_minor": 0
      },
      "image/png": "[encoded data removed]",
      "text/html": [
       "\n",
       "            <div style=\"display: inline-block;\">\n",
       "                <div class=\"jupyter-widgets widget-label\" style=\"text-align: center;\">\n",
       "                    Figure\n",
       "                </div>\n",
       "                <img src='data:image/png;base64,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' width=400.0/>\n",
       "            </div>\n",
       "        "
      ],
      "text/plain": [
       "Canvas(toolbar=Toolbar(toolitems=[('Home', 'Reset original view', 'home', 'home'), ('Back', 'Back to previous …"
      ]
     },
     "metadata": {},
     "output_type": "display_data"
    }
   ],
   "source": [
    "from matplotlib.gridspec import GridSpec\n",
    "\n",
    "\n",
    "import types\n",
    "\n",
    "plt.rcParams['axes.formatter.useoffset'] = False\n",
    "\n",
    "fig = plt.figure(figsize=(4,4))\n",
    "\n",
    "ax1 = fig.add_subplot(1,1,1,projection='3d')\n",
    "\n",
    "#####\n",
    "# Iterates through the node ids of the neurons whose positions have been loaded\n",
    "# Plots the positions in 3d, colored according to the compartment weights for EEG\n",
    "for i in ids[:100]:\n",
    "    \n",
    "    if i in FLshort:\n",
    "        region = FLshort\n",
    "        marker = 'o'\n",
    "        scaleFac = scaleFacFl\n",
    "        color = 'C0'\n",
    "    elif i in HLshort:\n",
    "        region = HLshort\n",
    "        marker = 'v'\n",
    "        scaleFac = scaleFacHl\n",
    "        color='C1'\n",
    "    elif i in ULPshort:\n",
    "        region = ULPshort\n",
    "        marker ='s'\n",
    "        scaleFac = scaleFacULp\n",
    "        color='C2'\n",
    "        \n",
    "    index = np.where(region==i)[0][0]\n",
    "    \n",
    "    scale = scaleFac[index]\n",
    "    \n",
    "    p = getNeuronSegmentMidpts(allPositions[i]).values\n",
    "        \n",
    "    im = ax1.scatter(p[0],p[1],p[2],marker=marker,c=scale,s=.5)#,vmin=0,vmax=5e-9)\n",
    "    \n",
    "ax1.view_init(elev=9., azim=-85)\n",
    "\n",
    "# Plots locations of electrodes\n",
    "ax1.scatter(eeg[0],eeg[1],eeg[2],c='r',s=20)\n",
    "ax1.scatter(returnElectrode[0],returnElectrode[1],returnElectrode[2],c='r',s=20) \n",
    "\n",
    "ax1.set_xlim((2801.1161576783625, 5500))\n",
    "ax1.set_ylim((0, 1883.8635116069354))\n",
    "ax1.set_zlim((-4332.110601382281, 914.4962633882312))\n",
    "\n",
    "\n",
    "ax1.axis('off')\n",
    "\n",
    "cb = plt.colorbar(im,fraction=0.25,location='bottom')\n",
    "\n",
    "cb.set_label(label='Compartment weights (V/nA)',labelpad=20)\n",
    "# cb.set_ticks([])\n",
    "#####\n",
    "plt.savefig('figures/neurons_L4.png',dpi=600)"
   ]
  },
  {
   "cell_type": "code",
   "execution_count": null,
   "metadata": {},
   "outputs": [],
   "source": []
  }
 ],
 "metadata": {
  "kernelspec": {
   "display_name": "Python 3 (ipykernel)",
   "language": "python",
   "name": "python3"
  },
  "language_info": {
   "codemirror_mode": {
    "name": "ipython",
    "version": 3
   },
   "file_extension": ".py",
   "mimetype": "text/x-python",
   "name": "python",
   "nbconvert_exporter": "python",
   "pygments_lexer": "ipython3",
   "version": "3.11.6"
  }
 },
 "nbformat": 4,
 "nbformat_minor": 4
}
